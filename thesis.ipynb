{
  "nbformat": 4,
  "nbformat_minor": 0,
  "metadata": {
    "colab": {
      "name": "thesis.ipynb",
      "provenance": []
    },
    "kernelspec": {
      "name": "python3",
      "display_name": "Python 3"
    }
  },
  "cells": [
    {
      "cell_type": "markdown",
      "metadata": {
        "id": "tYrXu9dd6VvO"
      },
      "source": [
        "\n"
      ]
    },
    {
      "cell_type": "code",
      "metadata": {
        "id": "3u5EiOTEKHKa"
      },
      "source": [
        "import pandas as pd\n",
        "import numpy as np\n",
        "\n",
        "import matplotlib.pyplot as plt\n",
        "import random as rd\n",
        "import missingno\n",
        "import seaborn as sns\n",
        "pharma=pd.read_excel('/content/drive/My Drive/pharma xlsx.xlsx')\n"
      ],
      "execution_count": 1,
      "outputs": []
    },
    {
      "cell_type": "code",
      "metadata": {
        "id": "gl9emV_VQoIi",
        "outputId": "b2b6fd7c-2c63-4d3a-f8e2-87ba56bdff8f",
        "colab": {
          "base_uri": "https://localhost:8080/",
          "height": 374
        }
      },
      "source": [
        "pharma.head(5)\n",
        "df=pharma\n",
        "df.drop('TargetGroupAddon_CRM',axis=1,inplace=True)\n",
        "df.dtypes\n",
        "\n"
      ],
      "execution_count": 15,
      "outputs": [
        {
          "output_type": "error",
          "ename": "KeyError",
          "evalue": "ignored",
          "traceback": [
            "\u001b[0;31m---------------------------------------------------------------------------\u001b[0m",
            "\u001b[0;31mKeyError\u001b[0m                                  Traceback (most recent call last)",
            "\u001b[0;32m<ipython-input-15-794c92f5695b>\u001b[0m in \u001b[0;36m<module>\u001b[0;34m()\u001b[0m\n\u001b[1;32m      1\u001b[0m \u001b[0mpharma\u001b[0m\u001b[0;34m.\u001b[0m\u001b[0mhead\u001b[0m\u001b[0;34m(\u001b[0m\u001b[0;36m5\u001b[0m\u001b[0;34m)\u001b[0m\u001b[0;34m\u001b[0m\u001b[0;34m\u001b[0m\u001b[0m\n\u001b[1;32m      2\u001b[0m \u001b[0mdf\u001b[0m\u001b[0;34m=\u001b[0m\u001b[0mpharma\u001b[0m\u001b[0;34m\u001b[0m\u001b[0;34m\u001b[0m\u001b[0m\n\u001b[0;32m----> 3\u001b[0;31m \u001b[0mdf\u001b[0m\u001b[0;34m.\u001b[0m\u001b[0mdrop\u001b[0m\u001b[0;34m(\u001b[0m\u001b[0;34m'TargetGroupAddon_CRM'\u001b[0m\u001b[0;34m,\u001b[0m\u001b[0maxis\u001b[0m\u001b[0;34m=\u001b[0m\u001b[0;36m1\u001b[0m\u001b[0;34m,\u001b[0m\u001b[0minplace\u001b[0m\u001b[0;34m=\u001b[0m\u001b[0;32mTrue\u001b[0m\u001b[0;34m)\u001b[0m\u001b[0;34m\u001b[0m\u001b[0;34m\u001b[0m\u001b[0m\n\u001b[0m\u001b[1;32m      4\u001b[0m \u001b[0mdf\u001b[0m\u001b[0;34m.\u001b[0m\u001b[0mdtypes\u001b[0m\u001b[0;34m\u001b[0m\u001b[0;34m\u001b[0m\u001b[0m\n\u001b[1;32m      5\u001b[0m \u001b[0mdf\u001b[0m\u001b[0;34m.\u001b[0m\u001b[0minfo\u001b[0m\u001b[0;34m\u001b[0m\u001b[0;34m\u001b[0m\u001b[0m\n",
            "\u001b[0;32m/usr/local/lib/python3.6/dist-packages/pandas/core/frame.py\u001b[0m in \u001b[0;36mdrop\u001b[0;34m(self, labels, axis, index, columns, level, inplace, errors)\u001b[0m\n\u001b[1;32m   4167\u001b[0m             \u001b[0mlevel\u001b[0m\u001b[0;34m=\u001b[0m\u001b[0mlevel\u001b[0m\u001b[0;34m,\u001b[0m\u001b[0;34m\u001b[0m\u001b[0;34m\u001b[0m\u001b[0m\n\u001b[1;32m   4168\u001b[0m             \u001b[0minplace\u001b[0m\u001b[0;34m=\u001b[0m\u001b[0minplace\u001b[0m\u001b[0;34m,\u001b[0m\u001b[0;34m\u001b[0m\u001b[0;34m\u001b[0m\u001b[0m\n\u001b[0;32m-> 4169\u001b[0;31m             \u001b[0merrors\u001b[0m\u001b[0;34m=\u001b[0m\u001b[0merrors\u001b[0m\u001b[0;34m,\u001b[0m\u001b[0;34m\u001b[0m\u001b[0;34m\u001b[0m\u001b[0m\n\u001b[0m\u001b[1;32m   4170\u001b[0m         )\n\u001b[1;32m   4171\u001b[0m \u001b[0;34m\u001b[0m\u001b[0m\n",
            "\u001b[0;32m/usr/local/lib/python3.6/dist-packages/pandas/core/generic.py\u001b[0m in \u001b[0;36mdrop\u001b[0;34m(self, labels, axis, index, columns, level, inplace, errors)\u001b[0m\n\u001b[1;32m   3882\u001b[0m         \u001b[0;32mfor\u001b[0m \u001b[0maxis\u001b[0m\u001b[0;34m,\u001b[0m \u001b[0mlabels\u001b[0m \u001b[0;32min\u001b[0m \u001b[0maxes\u001b[0m\u001b[0;34m.\u001b[0m\u001b[0mitems\u001b[0m\u001b[0;34m(\u001b[0m\u001b[0;34m)\u001b[0m\u001b[0;34m:\u001b[0m\u001b[0;34m\u001b[0m\u001b[0;34m\u001b[0m\u001b[0m\n\u001b[1;32m   3883\u001b[0m             \u001b[0;32mif\u001b[0m \u001b[0mlabels\u001b[0m \u001b[0;32mis\u001b[0m \u001b[0;32mnot\u001b[0m \u001b[0;32mNone\u001b[0m\u001b[0;34m:\u001b[0m\u001b[0;34m\u001b[0m\u001b[0;34m\u001b[0m\u001b[0m\n\u001b[0;32m-> 3884\u001b[0;31m                 \u001b[0mobj\u001b[0m \u001b[0;34m=\u001b[0m \u001b[0mobj\u001b[0m\u001b[0;34m.\u001b[0m\u001b[0m_drop_axis\u001b[0m\u001b[0;34m(\u001b[0m\u001b[0mlabels\u001b[0m\u001b[0;34m,\u001b[0m \u001b[0maxis\u001b[0m\u001b[0;34m,\u001b[0m \u001b[0mlevel\u001b[0m\u001b[0;34m=\u001b[0m\u001b[0mlevel\u001b[0m\u001b[0;34m,\u001b[0m \u001b[0merrors\u001b[0m\u001b[0;34m=\u001b[0m\u001b[0merrors\u001b[0m\u001b[0;34m)\u001b[0m\u001b[0;34m\u001b[0m\u001b[0;34m\u001b[0m\u001b[0m\n\u001b[0m\u001b[1;32m   3885\u001b[0m \u001b[0;34m\u001b[0m\u001b[0m\n\u001b[1;32m   3886\u001b[0m         \u001b[0;32mif\u001b[0m \u001b[0minplace\u001b[0m\u001b[0;34m:\u001b[0m\u001b[0;34m\u001b[0m\u001b[0;34m\u001b[0m\u001b[0m\n",
            "\u001b[0;32m/usr/local/lib/python3.6/dist-packages/pandas/core/generic.py\u001b[0m in \u001b[0;36m_drop_axis\u001b[0;34m(self, labels, axis, level, errors)\u001b[0m\n\u001b[1;32m   3916\u001b[0m                 \u001b[0mnew_axis\u001b[0m \u001b[0;34m=\u001b[0m \u001b[0maxis\u001b[0m\u001b[0;34m.\u001b[0m\u001b[0mdrop\u001b[0m\u001b[0;34m(\u001b[0m\u001b[0mlabels\u001b[0m\u001b[0;34m,\u001b[0m \u001b[0mlevel\u001b[0m\u001b[0;34m=\u001b[0m\u001b[0mlevel\u001b[0m\u001b[0;34m,\u001b[0m \u001b[0merrors\u001b[0m\u001b[0;34m=\u001b[0m\u001b[0merrors\u001b[0m\u001b[0;34m)\u001b[0m\u001b[0;34m\u001b[0m\u001b[0;34m\u001b[0m\u001b[0m\n\u001b[1;32m   3917\u001b[0m             \u001b[0;32melse\u001b[0m\u001b[0;34m:\u001b[0m\u001b[0;34m\u001b[0m\u001b[0;34m\u001b[0m\u001b[0m\n\u001b[0;32m-> 3918\u001b[0;31m                 \u001b[0mnew_axis\u001b[0m \u001b[0;34m=\u001b[0m \u001b[0maxis\u001b[0m\u001b[0;34m.\u001b[0m\u001b[0mdrop\u001b[0m\u001b[0;34m(\u001b[0m\u001b[0mlabels\u001b[0m\u001b[0;34m,\u001b[0m \u001b[0merrors\u001b[0m\u001b[0;34m=\u001b[0m\u001b[0merrors\u001b[0m\u001b[0;34m)\u001b[0m\u001b[0;34m\u001b[0m\u001b[0;34m\u001b[0m\u001b[0m\n\u001b[0m\u001b[1;32m   3919\u001b[0m             \u001b[0mresult\u001b[0m \u001b[0;34m=\u001b[0m \u001b[0mself\u001b[0m\u001b[0;34m.\u001b[0m\u001b[0mreindex\u001b[0m\u001b[0;34m(\u001b[0m\u001b[0;34m**\u001b[0m\u001b[0;34m{\u001b[0m\u001b[0maxis_name\u001b[0m\u001b[0;34m:\u001b[0m \u001b[0mnew_axis\u001b[0m\u001b[0;34m}\u001b[0m\u001b[0;34m)\u001b[0m\u001b[0;34m\u001b[0m\u001b[0;34m\u001b[0m\u001b[0m\n\u001b[1;32m   3920\u001b[0m \u001b[0;34m\u001b[0m\u001b[0m\n",
            "\u001b[0;32m/usr/local/lib/python3.6/dist-packages/pandas/core/indexes/base.py\u001b[0m in \u001b[0;36mdrop\u001b[0;34m(self, labels, errors)\u001b[0m\n\u001b[1;32m   5276\u001b[0m         \u001b[0;32mif\u001b[0m \u001b[0mmask\u001b[0m\u001b[0;34m.\u001b[0m\u001b[0many\u001b[0m\u001b[0;34m(\u001b[0m\u001b[0;34m)\u001b[0m\u001b[0;34m:\u001b[0m\u001b[0;34m\u001b[0m\u001b[0;34m\u001b[0m\u001b[0m\n\u001b[1;32m   5277\u001b[0m             \u001b[0;32mif\u001b[0m \u001b[0merrors\u001b[0m \u001b[0;34m!=\u001b[0m \u001b[0;34m\"ignore\"\u001b[0m\u001b[0;34m:\u001b[0m\u001b[0;34m\u001b[0m\u001b[0;34m\u001b[0m\u001b[0m\n\u001b[0;32m-> 5278\u001b[0;31m                 \u001b[0;32mraise\u001b[0m \u001b[0mKeyError\u001b[0m\u001b[0;34m(\u001b[0m\u001b[0;34mf\"{labels[mask]} not found in axis\"\u001b[0m\u001b[0;34m)\u001b[0m\u001b[0;34m\u001b[0m\u001b[0;34m\u001b[0m\u001b[0m\n\u001b[0m\u001b[1;32m   5279\u001b[0m             \u001b[0mindexer\u001b[0m \u001b[0;34m=\u001b[0m \u001b[0mindexer\u001b[0m\u001b[0;34m[\u001b[0m\u001b[0;34m~\u001b[0m\u001b[0mmask\u001b[0m\u001b[0;34m]\u001b[0m\u001b[0;34m\u001b[0m\u001b[0;34m\u001b[0m\u001b[0m\n\u001b[1;32m   5280\u001b[0m         \u001b[0;32mreturn\u001b[0m \u001b[0mself\u001b[0m\u001b[0;34m.\u001b[0m\u001b[0mdelete\u001b[0m\u001b[0;34m(\u001b[0m\u001b[0mindexer\u001b[0m\u001b[0;34m)\u001b[0m\u001b[0;34m\u001b[0m\u001b[0;34m\u001b[0m\u001b[0m\n",
            "\u001b[0;31mKeyError\u001b[0m: \"['TargetGroupAddon_CRM'] not found in axis\""
          ]
        }
      ]
    },
    {
      "cell_type": "code",
      "metadata": {
        "id": "nbB2pq3P-y_7",
        "outputId": "b25fd515-d8cd-4c29-c86c-0b42912e91a2",
        "colab": {
          "base_uri": "https://localhost:8080/",
          "height": 340
        }
      },
      "source": [
        "w=df[['StartTime_CRM','BrandName_CLM','BrandResult_CRM' ]]\n",
        "w.dropna(axis=0,inplace=True)\n",
        "w\n",
        "df.info"
      ],
      "execution_count": 16,
      "outputs": [
        {
          "output_type": "stream",
          "text": [
            "/usr/local/lib/python3.6/dist-packages/ipykernel_launcher.py:2: SettingWithCopyWarning: \n",
            "A value is trying to be set on a copy of a slice from a DataFrame\n",
            "\n",
            "See the caveats in the documentation: https://pandas.pydata.org/pandas-docs/stable/user_guide/indexing.html#returning-a-view-versus-a-copy\n",
            "  \n"
          ],
          "name": "stderr"
        },
        {
          "output_type": "execute_result",
          "data": {
            "text/plain": [
              "<bound method DataFrame.info of         ActivityID_CRM EventType_CRM  ...   Accuracy        LocationTime\n",
              "0              5365971         Визит  ...  16.374000 2019-12-04 14:09:22\n",
              "1              5365979         Визит  ...  16.648000 2019-12-04 09:48:20\n",
              "2              5365981         Визит  ...  17.080000 2019-12-05 17:11:24\n",
              "3              5365981         Визит  ...  17.080000 2019-12-05 17:11:24\n",
              "4              5365981         Визит  ...  17.080000 2019-12-05 17:11:24\n",
              "...                ...           ...  ...        ...                 ...\n",
              "525960         5788486    Фармкружок  ...  31.971001 2019-12-25 10:20:56\n",
              "525961         5788486    Фармкружок  ...  31.971001 2019-12-25 10:20:56\n",
              "525962         5788486    Фармкружок  ...  31.971001 2019-12-25 10:20:56\n",
              "525963         5788486    Фармкружок  ...  31.971001 2019-12-25 10:20:56\n",
              "525964         5788486    Фармкружок  ...  31.971001 2019-12-25 10:20:56\n",
              "\n",
              "[525965 rows x 28 columns]>"
            ]
          },
          "metadata": {
            "tags": []
          },
          "execution_count": 16
        }
      ]
    },
    {
      "cell_type": "code",
      "metadata": {
        "id": "4QnVkdNoOsBw",
        "outputId": "e8b92d44-f916-4dd1-ac3b-ccfcb19af813",
        "colab": {
          "base_uri": "https://localhost:8080/",
          "height": 408
        }
      },
      "source": [
        "w['date']=w['StartTime_CRM'].dt.date\n",
        "\n",
        "w['time']=pd.to_datetime(w['StartTime_CRM'],format='%H:%M').dt.time\n",
        "pd.to_datetime(w['time'],format='%H:%M' ,errors='ignore')\n",
        "w.head()"
      ],
      "execution_count": 6,
      "outputs": [
        {
          "output_type": "stream",
          "text": [
            "/usr/local/lib/python3.6/dist-packages/ipykernel_launcher.py:1: SettingWithCopyWarning: \n",
            "A value is trying to be set on a copy of a slice from a DataFrame.\n",
            "Try using .loc[row_indexer,col_indexer] = value instead\n",
            "\n",
            "See the caveats in the documentation: https://pandas.pydata.org/pandas-docs/stable/user_guide/indexing.html#returning-a-view-versus-a-copy\n",
            "  \"\"\"Entry point for launching an IPython kernel.\n",
            "/usr/local/lib/python3.6/dist-packages/ipykernel_launcher.py:3: SettingWithCopyWarning: \n",
            "A value is trying to be set on a copy of a slice from a DataFrame.\n",
            "Try using .loc[row_indexer,col_indexer] = value instead\n",
            "\n",
            "See the caveats in the documentation: https://pandas.pydata.org/pandas-docs/stable/user_guide/indexing.html#returning-a-view-versus-a-copy\n",
            "  This is separate from the ipykernel package so we can avoid doing imports until\n"
          ],
          "name": "stderr"
        },
        {
          "output_type": "execute_result",
          "data": {
            "text/html": [
              "<div>\n",
              "<style scoped>\n",
              "    .dataframe tbody tr th:only-of-type {\n",
              "        vertical-align: middle;\n",
              "    }\n",
              "\n",
              "    .dataframe tbody tr th {\n",
              "        vertical-align: top;\n",
              "    }\n",
              "\n",
              "    .dataframe thead th {\n",
              "        text-align: right;\n",
              "    }\n",
              "</style>\n",
              "<table border=\"1\" class=\"dataframe\">\n",
              "  <thead>\n",
              "    <tr style=\"text-align: right;\">\n",
              "      <th></th>\n",
              "      <th>StartTime_CRM</th>\n",
              "      <th>BrandName_CLM</th>\n",
              "      <th>BrandResult_CRM</th>\n",
              "      <th>date</th>\n",
              "      <th>time</th>\n",
              "    </tr>\n",
              "  </thead>\n",
              "  <tbody>\n",
              "    <tr>\n",
              "      <th>0</th>\n",
              "      <td>2019-12-04 14:00:00</td>\n",
              "      <td>Фемибион 2</td>\n",
              "      <td>10.0</td>\n",
              "      <td>2019-12-04</td>\n",
              "      <td>14:00:00</td>\n",
              "    </tr>\n",
              "    <tr>\n",
              "      <th>1</th>\n",
              "      <td>2019-12-04 09:30:00</td>\n",
              "      <td>Аллервэй</td>\n",
              "      <td>6.0</td>\n",
              "      <td>2019-12-04</td>\n",
              "      <td>09:30:00</td>\n",
              "    </tr>\n",
              "    <tr>\n",
              "      <th>3</th>\n",
              "      <td>2019-12-05 16:30:00</td>\n",
              "      <td>Фемибион 1</td>\n",
              "      <td>8.0</td>\n",
              "      <td>2019-12-05</td>\n",
              "      <td>16:30:00</td>\n",
              "    </tr>\n",
              "    <tr>\n",
              "      <th>5</th>\n",
              "      <td>2019-12-05 16:30:00</td>\n",
              "      <td>Фемибион 1</td>\n",
              "      <td>8.0</td>\n",
              "      <td>2019-12-05</td>\n",
              "      <td>16:30:00</td>\n",
              "    </tr>\n",
              "    <tr>\n",
              "      <th>7</th>\n",
              "      <td>2019-12-04 12:00:00</td>\n",
              "      <td>Фемибион 1</td>\n",
              "      <td>16.0</td>\n",
              "      <td>2019-12-04</td>\n",
              "      <td>12:00:00</td>\n",
              "    </tr>\n",
              "  </tbody>\n",
              "</table>\n",
              "</div>"
            ],
            "text/plain": [
              "        StartTime_CRM BrandName_CLM  BrandResult_CRM        date      time\n",
              "0 2019-12-04 14:00:00    Фемибион 2             10.0  2019-12-04  14:00:00\n",
              "1 2019-12-04 09:30:00      Аллервэй              6.0  2019-12-04  09:30:00\n",
              "3 2019-12-05 16:30:00    Фемибион 1              8.0  2019-12-05  16:30:00\n",
              "5 2019-12-05 16:30:00    Фемибион 1              8.0  2019-12-05  16:30:00\n",
              "7 2019-12-04 12:00:00    Фемибион 1             16.0  2019-12-04  12:00:00"
            ]
          },
          "metadata": {
            "tags": []
          },
          "execution_count": 6
        }
      ]
    },
    {
      "cell_type": "code",
      "metadata": {
        "id": "rvqDQIv2WWPK",
        "outputId": "bf6e5af6-08ae-480b-fb70-770dc3c972f6",
        "colab": {
          "base_uri": "https://localhost:8080/",
          "height": 101
        }
      },
      "source": [
        "\n",
        "w.dtypes"
      ],
      "execution_count": null,
      "outputs": [
        {
          "output_type": "execute_result",
          "data": {
            "text/plain": [
              "StartTime_CRM      datetime64[ns]\n",
              "BrandName_CLM              object\n",
              "BrandResult_CRM           float64\n",
              "time                       object\n",
              "dtype: object"
            ]
          },
          "metadata": {
            "tags": []
          },
          "execution_count": 32
        }
      ]
    },
    {
      "cell_type": "markdown",
      "metadata": {
        "id": "CMbxY-LyJVxD"
      },
      "source": [
        "сделаем выборку из данных,1000 случайных значений сделок и их время."
      ]
    },
    {
      "cell_type": "code",
      "metadata": {
        "id": "43DK3KlBLBMt",
        "outputId": "4fd75010-ffad-4604-b4bc-7a5fb21c8484",
        "colab": {
          "base_uri": "https://localhost:8080/",
          "height": 221
        }
      },
      "source": [
        "w['f']=pd.to_numeric(w['BrandResult_CRM'],downcast='integer')\n",
        "w['q']=w['time'].apply(str)\n"
      ],
      "execution_count": 10,
      "outputs": [
        {
          "output_type": "stream",
          "text": [
            "/usr/local/lib/python3.6/dist-packages/ipykernel_launcher.py:1: SettingWithCopyWarning: \n",
            "A value is trying to be set on a copy of a slice from a DataFrame.\n",
            "Try using .loc[row_indexer,col_indexer] = value instead\n",
            "\n",
            "See the caveats in the documentation: https://pandas.pydata.org/pandas-docs/stable/user_guide/indexing.html#returning-a-view-versus-a-copy\n",
            "  \"\"\"Entry point for launching an IPython kernel.\n",
            "/usr/local/lib/python3.6/dist-packages/ipykernel_launcher.py:2: SettingWithCopyWarning: \n",
            "A value is trying to be set on a copy of a slice from a DataFrame.\n",
            "Try using .loc[row_indexer,col_indexer] = value instead\n",
            "\n",
            "See the caveats in the documentation: https://pandas.pydata.org/pandas-docs/stable/user_guide/indexing.html#returning-a-view-versus-a-copy\n",
            "  \n"
          ],
          "name": "stderr"
        }
      ]
    },
    {
      "cell_type": "code",
      "metadata": {
        "id": "gC1vOYsVXYnU",
        "outputId": "871a6aa7-e9b7-4d4b-c7aa-4e5ca1e7673c",
        "colab": {
          "base_uri": "https://localhost:8080/",
          "height": 180
        }
      },
      "source": [
        "from random import sample \n",
        "sample(w['q'],1000)\n"
      ],
      "execution_count": 4,
      "outputs": [
        {
          "output_type": "error",
          "ename": "NameError",
          "evalue": "ignored",
          "traceback": [
            "\u001b[0;31m---------------------------------------------------------------------------\u001b[0m",
            "\u001b[0;31mNameError\u001b[0m                                 Traceback (most recent call last)",
            "\u001b[0;32m<ipython-input-4-3605b1ca5fad>\u001b[0m in \u001b[0;36m<module>\u001b[0;34m()\u001b[0m\n\u001b[1;32m      1\u001b[0m \u001b[0;32mfrom\u001b[0m \u001b[0mrandom\u001b[0m \u001b[0;32mimport\u001b[0m \u001b[0msample\u001b[0m\u001b[0;34m\u001b[0m\u001b[0;34m\u001b[0m\u001b[0m\n\u001b[0;32m----> 2\u001b[0;31m \u001b[0msample\u001b[0m\u001b[0;34m(\u001b[0m\u001b[0mw\u001b[0m\u001b[0;34m[\u001b[0m\u001b[0;34m'q'\u001b[0m\u001b[0;34m]\u001b[0m\u001b[0;34m,\u001b[0m\u001b[0;36m1000\u001b[0m\u001b[0;34m)\u001b[0m\u001b[0;34m\u001b[0m\u001b[0;34m\u001b[0m\u001b[0m\n\u001b[0m",
            "\u001b[0;31mNameError\u001b[0m: name 'w' is not defined"
          ]
        }
      ]
    },
    {
      "cell_type": "code",
      "metadata": {
        "id": "O7B-8bf9JhtA",
        "outputId": "7e9aa5b9-c781-49a8-dd01-76d0164e674f",
        "colab": {
          "base_uri": "https://localhost:8080/",
          "height": 856
        }
      },
      "source": [
        "plt.figure(figsize=(12,14))\n",
        "\n",
        "\n",
        "plt.bar(sample(list(w['time']),200),sample(list(w['f']),200))\n",
        "plt.xlabel('Часы работы торговых представителей',)\n",
        "plt.ylabel('Количество заключенных сделок')\n",
        "plt.title('Производительность по часам')"
      ],
      "execution_count": 14,
      "outputs": [
        {
          "output_type": "execute_result",
          "data": {
            "text/plain": [
              "Text(0.5, 1.0, 'Производительность по часам')"
            ]
          },
          "metadata": {
            "tags": []
          },
          "execution_count": 14
        },
        {
          "output_type": "display_data",
          "data": {
            "image/png": "[encoded data removed]",
            "text/plain": [
              "<Figure size 864x1008 with 1 Axes>"
            ]
          },
          "metadata": {
            "tags": [],
            "needs_background": "light"
          }
        }
      ]
    },
    {
      "cell_type": "code",
      "metadata": {
        "id": "RjmMf298cfL3",
        "outputId": "06be284e-9764-4c66-e97e-2c8ee7281d3b",
        "colab": {
          "base_uri": "https://localhost:8080/",
          "height": 1000
        }
      },
      "source": [
        "sample(list(w['time']),200)"
      ],
      "execution_count": 9,
      "outputs": [
        {
          "output_type": "execute_result",
          "data": {
            "text/plain": [
              "[15,\n",
              " 14,\n",
              " 13,\n",
              " 13,\n",
              " 10,\n",
              " 13,\n",
              " 10,\n",
              " 10,\n",
              " 14,\n",
              " 10,\n",
              " 14,\n",
              " 10,\n",
              " 12,\n",
              " 14,\n",
              " 16,\n",
              " 12,\n",
              " 12,\n",
              " 17,\n",
              " 12,\n",
              " 13,\n",
              " 10,\n",
              " 11,\n",
              " 13,\n",
              " 9,\n",
              " 17,\n",
              " 9,\n",
              " 12,\n",
              " 11,\n",
              " 14,\n",
              " 11,\n",
              " 11,\n",
              " 14,\n",
              " 13,\n",
              " 9,\n",
              " 9,\n",
              " 13,\n",
              " 13,\n",
              " 10,\n",
              " 12,\n",
              " 12,\n",
              " 11,\n",
              " 11,\n",
              " 9,\n",
              " 9,\n",
              " 13,\n",
              " 10,\n",
              " 13,\n",
              " 10,\n",
              " 12,\n",
              " 13,\n",
              " 16,\n",
              " 16,\n",
              " 10,\n",
              " 17,\n",
              " 16,\n",
              " 10,\n",
              " 10,\n",
              " 12,\n",
              " 9,\n",
              " 13,\n",
              " 11,\n",
              " 17,\n",
              " 10,\n",
              " 16,\n",
              " 17,\n",
              " 11,\n",
              " 10,\n",
              " 13,\n",
              " 14,\n",
              " 12,\n",
              " 11,\n",
              " 9,\n",
              " 15,\n",
              " 16,\n",
              " 9,\n",
              " 11,\n",
              " 11,\n",
              " 16,\n",
              " 14,\n",
              " 12,\n",
              " 9,\n",
              " 12,\n",
              " 9,\n",
              " 10,\n",
              " 15,\n",
              " 13,\n",
              " 14,\n",
              " 10,\n",
              " 12,\n",
              " 13,\n",
              " 15,\n",
              " 14,\n",
              " 11,\n",
              " 12,\n",
              " 12,\n",
              " 11,\n",
              " 13,\n",
              " 15,\n",
              " 17,\n",
              " 14,\n",
              " 17,\n",
              " 10,\n",
              " 13,\n",
              " 12,\n",
              " 13,\n",
              " 15,\n",
              " 9,\n",
              " 17,\n",
              " 11,\n",
              " 9,\n",
              " 16,\n",
              " 9,\n",
              " 10,\n",
              " 14,\n",
              " 13,\n",
              " 15,\n",
              " 12,\n",
              " 16,\n",
              " 13,\n",
              " 14,\n",
              " 11,\n",
              " 15,\n",
              " 9,\n",
              " 13,\n",
              " 13,\n",
              " 17,\n",
              " 16,\n",
              " 14,\n",
              " 16,\n",
              " 16,\n",
              " 12,\n",
              " 11,\n",
              " 12,\n",
              " 17,\n",
              " 11,\n",
              " 14,\n",
              " 14,\n",
              " 16,\n",
              " 15,\n",
              " 16,\n",
              " 15,\n",
              " 10,\n",
              " 12,\n",
              " 9,\n",
              " 10,\n",
              " 14,\n",
              " 10,\n",
              " 9,\n",
              " 12,\n",
              " 14,\n",
              " 9,\n",
              " 14,\n",
              " 12,\n",
              " 13,\n",
              " 11,\n",
              " 10,\n",
              " 15,\n",
              " 11,\n",
              " 12,\n",
              " 10,\n",
              " 17,\n",
              " 13,\n",
              " 10,\n",
              " 11,\n",
              " 11,\n",
              " 16,\n",
              " 15,\n",
              " 14,\n",
              " 10,\n",
              " 10,\n",
              " 10,\n",
              " 17,\n",
              " 9,\n",
              " 10,\n",
              " 10,\n",
              " 14,\n",
              " 10,\n",
              " 11,\n",
              " 14,\n",
              " 13,\n",
              " 10,\n",
              " 11,\n",
              " 16,\n",
              " 14,\n",
              " 16,\n",
              " 11,\n",
              " 17,\n",
              " 11,\n",
              " 9,\n",
              " 14,\n",
              " 14,\n",
              " 9,\n",
              " 14,\n",
              " 9,\n",
              " 10,\n",
              " 10,\n",
              " 11,\n",
              " 10,\n",
              " 17,\n",
              " 9]"
            ]
          },
          "metadata": {
            "tags": []
          },
          "execution_count": 9
        }
      ]
    },
    {
      "cell_type": "code",
      "metadata": {
        "id": "-9PrAqoSJxra",
        "outputId": "c2037753-5300-4b2c-dce7-5a55c224e001",
        "colab": {
          "base_uri": "https://localhost:8080/",
          "height": 506
        }
      },
      "source": [
        "w['time']=pd.to_datetime(w['StartTime_CRM']).dt.hour\n",
        "w\n",
        "pd.to_datetime(w['time'],errors='ignore')\n",
        "w"
      ],
      "execution_count": 7,
      "outputs": [
        {
          "output_type": "stream",
          "text": [
            "/usr/local/lib/python3.6/dist-packages/ipykernel_launcher.py:1: SettingWithCopyWarning: \n",
            "A value is trying to be set on a copy of a slice from a DataFrame.\n",
            "Try using .loc[row_indexer,col_indexer] = value instead\n",
            "\n",
            "See the caveats in the documentation: https://pandas.pydata.org/pandas-docs/stable/user_guide/indexing.html#returning-a-view-versus-a-copy\n",
            "  \"\"\"Entry point for launching an IPython kernel.\n"
          ],
          "name": "stderr"
        },
        {
          "output_type": "execute_result",
          "data": {
            "text/html": [
              "<div>\n",
              "<style scoped>\n",
              "    .dataframe tbody tr th:only-of-type {\n",
              "        vertical-align: middle;\n",
              "    }\n",
              "\n",
              "    .dataframe tbody tr th {\n",
              "        vertical-align: top;\n",
              "    }\n",
              "\n",
              "    .dataframe thead th {\n",
              "        text-align: right;\n",
              "    }\n",
              "</style>\n",
              "<table border=\"1\" class=\"dataframe\">\n",
              "  <thead>\n",
              "    <tr style=\"text-align: right;\">\n",
              "      <th></th>\n",
              "      <th>StartTime_CRM</th>\n",
              "      <th>BrandName_CLM</th>\n",
              "      <th>BrandResult_CRM</th>\n",
              "      <th>date</th>\n",
              "      <th>time</th>\n",
              "    </tr>\n",
              "  </thead>\n",
              "  <tbody>\n",
              "    <tr>\n",
              "      <th>0</th>\n",
              "      <td>2019-12-04 14:00:00</td>\n",
              "      <td>Фемибион 2</td>\n",
              "      <td>10.0</td>\n",
              "      <td>2019-12-04</td>\n",
              "      <td>14</td>\n",
              "    </tr>\n",
              "    <tr>\n",
              "      <th>1</th>\n",
              "      <td>2019-12-04 09:30:00</td>\n",
              "      <td>Аллервэй</td>\n",
              "      <td>6.0</td>\n",
              "      <td>2019-12-04</td>\n",
              "      <td>9</td>\n",
              "    </tr>\n",
              "    <tr>\n",
              "      <th>3</th>\n",
              "      <td>2019-12-05 16:30:00</td>\n",
              "      <td>Фемибион 1</td>\n",
              "      <td>8.0</td>\n",
              "      <td>2019-12-05</td>\n",
              "      <td>16</td>\n",
              "    </tr>\n",
              "    <tr>\n",
              "      <th>5</th>\n",
              "      <td>2019-12-05 16:30:00</td>\n",
              "      <td>Фемибион 1</td>\n",
              "      <td>8.0</td>\n",
              "      <td>2019-12-05</td>\n",
              "      <td>16</td>\n",
              "    </tr>\n",
              "    <tr>\n",
              "      <th>7</th>\n",
              "      <td>2019-12-04 12:00:00</td>\n",
              "      <td>Фемибион 1</td>\n",
              "      <td>16.0</td>\n",
              "      <td>2019-12-04</td>\n",
              "      <td>12</td>\n",
              "    </tr>\n",
              "    <tr>\n",
              "      <th>...</th>\n",
              "      <td>...</td>\n",
              "      <td>...</td>\n",
              "      <td>...</td>\n",
              "      <td>...</td>\n",
              "      <td>...</td>\n",
              "    </tr>\n",
              "    <tr>\n",
              "      <th>525948</th>\n",
              "      <td>2019-12-25 17:00:00</td>\n",
              "      <td>Омез</td>\n",
              "      <td>20.0</td>\n",
              "      <td>2019-12-25</td>\n",
              "      <td>17</td>\n",
              "    </tr>\n",
              "    <tr>\n",
              "      <th>525949</th>\n",
              "      <td>2019-12-25 17:00:00</td>\n",
              "      <td>Нейробион</td>\n",
              "      <td>4.0</td>\n",
              "      <td>2019-12-25</td>\n",
              "      <td>17</td>\n",
              "    </tr>\n",
              "    <tr>\n",
              "      <th>525950</th>\n",
              "      <td>2019-12-25 17:00:00</td>\n",
              "      <td>Омез</td>\n",
              "      <td>20.0</td>\n",
              "      <td>2019-12-25</td>\n",
              "      <td>17</td>\n",
              "    </tr>\n",
              "    <tr>\n",
              "      <th>525953</th>\n",
              "      <td>2019-12-24 12:30:00</td>\n",
              "      <td>Називин</td>\n",
              "      <td>8.0</td>\n",
              "      <td>2019-12-24</td>\n",
              "      <td>12</td>\n",
              "    </tr>\n",
              "    <tr>\n",
              "      <th>525955</th>\n",
              "      <td>2019-12-24 13:20:00</td>\n",
              "      <td>Цетрин</td>\n",
              "      <td>5.0</td>\n",
              "      <td>2019-12-24</td>\n",
              "      <td>13</td>\n",
              "    </tr>\n",
              "  </tbody>\n",
              "</table>\n",
              "<p>344805 rows × 5 columns</p>\n",
              "</div>"
            ],
            "text/plain": [
              "             StartTime_CRM BrandName_CLM  BrandResult_CRM        date  time\n",
              "0      2019-12-04 14:00:00    Фемибион 2             10.0  2019-12-04    14\n",
              "1      2019-12-04 09:30:00      Аллервэй              6.0  2019-12-04     9\n",
              "3      2019-12-05 16:30:00    Фемибион 1              8.0  2019-12-05    16\n",
              "5      2019-12-05 16:30:00    Фемибион 1              8.0  2019-12-05    16\n",
              "7      2019-12-04 12:00:00    Фемибион 1             16.0  2019-12-04    12\n",
              "...                    ...           ...              ...         ...   ...\n",
              "525948 2019-12-25 17:00:00          Омез             20.0  2019-12-25    17\n",
              "525949 2019-12-25 17:00:00     Нейробион              4.0  2019-12-25    17\n",
              "525950 2019-12-25 17:00:00          Омез             20.0  2019-12-25    17\n",
              "525953 2019-12-24 12:30:00       Називин              8.0  2019-12-24    12\n",
              "525955 2019-12-24 13:20:00        Цетрин              5.0  2019-12-24    13\n",
              "\n",
              "[344805 rows x 5 columns]"
            ]
          },
          "metadata": {
            "tags": []
          },
          "execution_count": 7
        }
      ]
    },
    {
      "cell_type": "code",
      "metadata": {
        "id": "xax2oGIH4PNJ",
        "outputId": "490fa673-b4a5-40d7-e92b-327ffcaa7e81",
        "colab": {
          "base_uri": "https://localhost:8080/",
          "height": 454
        }
      },
      "source": [
        "plt.figure(figsize=(14,10))\n",
        "plt.bar(w['date'],w['BrandResult_CRM'])"
      ],
      "execution_count": null,
      "outputs": [
        {
          "output_type": "execute_result",
          "data": {
            "text/plain": [
              "<BarContainer object of 344805 artists>"
            ]
          },
          "metadata": {
            "tags": []
          },
          "execution_count": 7
        },
        {
          "output_type": "stream",
          "text": [
            "Error in callback <function flush_figures at 0x7fa6862ccb70> (for post_execute):\n"
          ],
          "name": "stdout"
        },
        {
          "output_type": "error",
          "ename": "KeyboardInterrupt",
          "evalue": "ignored",
          "traceback": [
            "\u001b[0;31m---------------------------------------------------------------------------\u001b[0m",
            "\u001b[0;31mKeyboardInterrupt\u001b[0m                         Traceback (most recent call last)",
            "\u001b[0;32m/usr/local/lib/python3.6/dist-packages/ipykernel/pylab/backend_inline.py\u001b[0m in \u001b[0;36mflush_figures\u001b[0;34m()\u001b[0m\n\u001b[1;32m    115\u001b[0m         \u001b[0;31m# ignore the tracking, just draw and close all figures\u001b[0m\u001b[0;34m\u001b[0m\u001b[0;34m\u001b[0m\u001b[0;34m\u001b[0m\u001b[0m\n\u001b[1;32m    116\u001b[0m         \u001b[0;32mtry\u001b[0m\u001b[0;34m:\u001b[0m\u001b[0;34m\u001b[0m\u001b[0;34m\u001b[0m\u001b[0m\n\u001b[0;32m--> 117\u001b[0;31m             \u001b[0;32mreturn\u001b[0m \u001b[0mshow\u001b[0m\u001b[0;34m(\u001b[0m\u001b[0;32mTrue\u001b[0m\u001b[0;34m)\u001b[0m\u001b[0;34m\u001b[0m\u001b[0;34m\u001b[0m\u001b[0m\n\u001b[0m\u001b[1;32m    118\u001b[0m         \u001b[0;32mexcept\u001b[0m \u001b[0mException\u001b[0m \u001b[0;32mas\u001b[0m \u001b[0me\u001b[0m\u001b[0;34m:\u001b[0m\u001b[0;34m\u001b[0m\u001b[0;34m\u001b[0m\u001b[0m\n\u001b[1;32m    119\u001b[0m             \u001b[0;31m# safely show traceback if in IPython, else raise\u001b[0m\u001b[0;34m\u001b[0m\u001b[0;34m\u001b[0m\u001b[0;34m\u001b[0m\u001b[0m\n",
            "\u001b[0;32m/usr/local/lib/python3.6/dist-packages/ipykernel/pylab/backend_inline.py\u001b[0m in \u001b[0;36mshow\u001b[0;34m(close, block)\u001b[0m\n\u001b[1;32m     37\u001b[0m             display(\n\u001b[1;32m     38\u001b[0m                 \u001b[0mfigure_manager\u001b[0m\u001b[0;34m.\u001b[0m\u001b[0mcanvas\u001b[0m\u001b[0;34m.\u001b[0m\u001b[0mfigure\u001b[0m\u001b[0;34m,\u001b[0m\u001b[0;34m\u001b[0m\u001b[0;34m\u001b[0m\u001b[0m\n\u001b[0;32m---> 39\u001b[0;31m                 \u001b[0mmetadata\u001b[0m\u001b[0;34m=\u001b[0m\u001b[0m_fetch_figure_metadata\u001b[0m\u001b[0;34m(\u001b[0m\u001b[0mfigure_manager\u001b[0m\u001b[0;34m.\u001b[0m\u001b[0mcanvas\u001b[0m\u001b[0;34m.\u001b[0m\u001b[0mfigure\u001b[0m\u001b[0;34m)\u001b[0m\u001b[0;34m\u001b[0m\u001b[0;34m\u001b[0m\u001b[0m\n\u001b[0m\u001b[1;32m     40\u001b[0m             )\n\u001b[1;32m     41\u001b[0m     \u001b[0;32mfinally\u001b[0m\u001b[0;34m:\u001b[0m\u001b[0;34m\u001b[0m\u001b[0;34m\u001b[0m\u001b[0m\n",
            "\u001b[0;32m/usr/local/lib/python3.6/dist-packages/IPython/core/display.py\u001b[0m in \u001b[0;36mdisplay\u001b[0;34m(*objs, **kwargs)\u001b[0m\n\u001b[1;32m    304\u001b[0m             \u001b[0mpublish_display_data\u001b[0m\u001b[0;34m(\u001b[0m\u001b[0mdata\u001b[0m\u001b[0;34m=\u001b[0m\u001b[0mobj\u001b[0m\u001b[0;34m,\u001b[0m \u001b[0mmetadata\u001b[0m\u001b[0;34m=\u001b[0m\u001b[0mmetadata\u001b[0m\u001b[0;34m,\u001b[0m \u001b[0;34m**\u001b[0m\u001b[0mkwargs\u001b[0m\u001b[0;34m)\u001b[0m\u001b[0;34m\u001b[0m\u001b[0;34m\u001b[0m\u001b[0m\n\u001b[1;32m    305\u001b[0m         \u001b[0;32melse\u001b[0m\u001b[0;34m:\u001b[0m\u001b[0;34m\u001b[0m\u001b[0;34m\u001b[0m\u001b[0m\n\u001b[0;32m--> 306\u001b[0;31m             \u001b[0mformat_dict\u001b[0m\u001b[0;34m,\u001b[0m \u001b[0mmd_dict\u001b[0m \u001b[0;34m=\u001b[0m \u001b[0mformat\u001b[0m\u001b[0;34m(\u001b[0m\u001b[0mobj\u001b[0m\u001b[0;34m,\u001b[0m \u001b[0minclude\u001b[0m\u001b[0;34m=\u001b[0m\u001b[0minclude\u001b[0m\u001b[0;34m,\u001b[0m \u001b[0mexclude\u001b[0m\u001b[0;34m=\u001b[0m\u001b[0mexclude\u001b[0m\u001b[0;34m)\u001b[0m\u001b[0;34m\u001b[0m\u001b[0;34m\u001b[0m\u001b[0m\n\u001b[0m\u001b[1;32m    307\u001b[0m             \u001b[0;32mif\u001b[0m \u001b[0;32mnot\u001b[0m \u001b[0mformat_dict\u001b[0m\u001b[0;34m:\u001b[0m\u001b[0;34m\u001b[0m\u001b[0;34m\u001b[0m\u001b[0m\n\u001b[1;32m    308\u001b[0m                 \u001b[0;31m# nothing to display (e.g. _ipython_display_ took over)\u001b[0m\u001b[0;34m\u001b[0m\u001b[0;34m\u001b[0m\u001b[0;34m\u001b[0m\u001b[0m\n",
            "\u001b[0;32m/usr/local/lib/python3.6/dist-packages/IPython/core/formatters.py\u001b[0m in \u001b[0;36mformat\u001b[0;34m(self, obj, include, exclude)\u001b[0m\n\u001b[1;32m    171\u001b[0m             \u001b[0mmd\u001b[0m \u001b[0;34m=\u001b[0m \u001b[0;32mNone\u001b[0m\u001b[0;34m\u001b[0m\u001b[0;34m\u001b[0m\u001b[0m\n\u001b[1;32m    172\u001b[0m             \u001b[0;32mtry\u001b[0m\u001b[0;34m:\u001b[0m\u001b[0;34m\u001b[0m\u001b[0;34m\u001b[0m\u001b[0m\n\u001b[0;32m--> 173\u001b[0;31m                 \u001b[0mdata\u001b[0m \u001b[0;34m=\u001b[0m \u001b[0mformatter\u001b[0m\u001b[0;34m(\u001b[0m\u001b[0mobj\u001b[0m\u001b[0;34m)\u001b[0m\u001b[0;34m\u001b[0m\u001b[0;34m\u001b[0m\u001b[0m\n\u001b[0m\u001b[1;32m    174\u001b[0m             \u001b[0;32mexcept\u001b[0m\u001b[0;34m:\u001b[0m\u001b[0;34m\u001b[0m\u001b[0;34m\u001b[0m\u001b[0m\n\u001b[1;32m    175\u001b[0m                 \u001b[0;31m# FIXME: log the exception\u001b[0m\u001b[0;34m\u001b[0m\u001b[0;34m\u001b[0m\u001b[0;34m\u001b[0m\u001b[0m\n",
            "\u001b[0;32m<decorator-gen-9>\u001b[0m in \u001b[0;36m__call__\u001b[0;34m(self, obj)\u001b[0m\n",
            "\u001b[0;32m/usr/local/lib/python3.6/dist-packages/IPython/core/formatters.py\u001b[0m in \u001b[0;36mcatch_format_error\u001b[0;34m(method, self, *args, **kwargs)\u001b[0m\n\u001b[1;32m    215\u001b[0m     \u001b[0;34m\"\"\"show traceback on failed format call\"\"\"\u001b[0m\u001b[0;34m\u001b[0m\u001b[0;34m\u001b[0m\u001b[0m\n\u001b[1;32m    216\u001b[0m     \u001b[0;32mtry\u001b[0m\u001b[0;34m:\u001b[0m\u001b[0;34m\u001b[0m\u001b[0;34m\u001b[0m\u001b[0m\n\u001b[0;32m--> 217\u001b[0;31m         \u001b[0mr\u001b[0m \u001b[0;34m=\u001b[0m \u001b[0mmethod\u001b[0m\u001b[0;34m(\u001b[0m\u001b[0mself\u001b[0m\u001b[0;34m,\u001b[0m \u001b[0;34m*\u001b[0m\u001b[0margs\u001b[0m\u001b[0;34m,\u001b[0m \u001b[0;34m**\u001b[0m\u001b[0mkwargs\u001b[0m\u001b[0;34m)\u001b[0m\u001b[0;34m\u001b[0m\u001b[0;34m\u001b[0m\u001b[0m\n\u001b[0m\u001b[1;32m    218\u001b[0m     \u001b[0;32mexcept\u001b[0m \u001b[0mNotImplementedError\u001b[0m\u001b[0;34m:\u001b[0m\u001b[0;34m\u001b[0m\u001b[0;34m\u001b[0m\u001b[0m\n\u001b[1;32m    219\u001b[0m         \u001b[0;31m# don't warn on NotImplementedErrors\u001b[0m\u001b[0;34m\u001b[0m\u001b[0;34m\u001b[0m\u001b[0;34m\u001b[0m\u001b[0m\n",
            "\u001b[0;32m/usr/local/lib/python3.6/dist-packages/IPython/core/formatters.py\u001b[0m in \u001b[0;36m__call__\u001b[0;34m(self, obj)\u001b[0m\n\u001b[1;32m    332\u001b[0m                 \u001b[0;32mpass\u001b[0m\u001b[0;34m\u001b[0m\u001b[0;34m\u001b[0m\u001b[0m\n\u001b[1;32m    333\u001b[0m             \u001b[0;32melse\u001b[0m\u001b[0;34m:\u001b[0m\u001b[0;34m\u001b[0m\u001b[0;34m\u001b[0m\u001b[0m\n\u001b[0;32m--> 334\u001b[0;31m                 \u001b[0;32mreturn\u001b[0m \u001b[0mprinter\u001b[0m\u001b[0;34m(\u001b[0m\u001b[0mobj\u001b[0m\u001b[0;34m)\u001b[0m\u001b[0;34m\u001b[0m\u001b[0;34m\u001b[0m\u001b[0m\n\u001b[0m\u001b[1;32m    335\u001b[0m             \u001b[0;31m# Finally look for special method names\u001b[0m\u001b[0;34m\u001b[0m\u001b[0;34m\u001b[0m\u001b[0;34m\u001b[0m\u001b[0m\n\u001b[1;32m    336\u001b[0m             \u001b[0mmethod\u001b[0m \u001b[0;34m=\u001b[0m \u001b[0mget_real_method\u001b[0m\u001b[0;34m(\u001b[0m\u001b[0mobj\u001b[0m\u001b[0;34m,\u001b[0m \u001b[0mself\u001b[0m\u001b[0;34m.\u001b[0m\u001b[0mprint_method\u001b[0m\u001b[0;34m)\u001b[0m\u001b[0;34m\u001b[0m\u001b[0;34m\u001b[0m\u001b[0m\n",
            "\u001b[0;32m/usr/local/lib/python3.6/dist-packages/IPython/core/pylabtools.py\u001b[0m in \u001b[0;36m<lambda>\u001b[0;34m(fig)\u001b[0m\n\u001b[1;32m    239\u001b[0m \u001b[0;34m\u001b[0m\u001b[0m\n\u001b[1;32m    240\u001b[0m     \u001b[0;32mif\u001b[0m \u001b[0;34m'png'\u001b[0m \u001b[0;32min\u001b[0m \u001b[0mformats\u001b[0m\u001b[0;34m:\u001b[0m\u001b[0;34m\u001b[0m\u001b[0;34m\u001b[0m\u001b[0m\n\u001b[0;32m--> 241\u001b[0;31m         \u001b[0mpng_formatter\u001b[0m\u001b[0;34m.\u001b[0m\u001b[0mfor_type\u001b[0m\u001b[0;34m(\u001b[0m\u001b[0mFigure\u001b[0m\u001b[0;34m,\u001b[0m \u001b[0;32mlambda\u001b[0m \u001b[0mfig\u001b[0m\u001b[0;34m:\u001b[0m \u001b[0mprint_figure\u001b[0m\u001b[0;34m(\u001b[0m\u001b[0mfig\u001b[0m\u001b[0;34m,\u001b[0m \u001b[0;34m'png'\u001b[0m\u001b[0;34m,\u001b[0m \u001b[0;34m**\u001b[0m\u001b[0mkwargs\u001b[0m\u001b[0;34m)\u001b[0m\u001b[0;34m)\u001b[0m\u001b[0;34m\u001b[0m\u001b[0;34m\u001b[0m\u001b[0m\n\u001b[0m\u001b[1;32m    242\u001b[0m     \u001b[0;32mif\u001b[0m \u001b[0;34m'retina'\u001b[0m \u001b[0;32min\u001b[0m \u001b[0mformats\u001b[0m \u001b[0;32mor\u001b[0m \u001b[0;34m'png2x'\u001b[0m \u001b[0;32min\u001b[0m \u001b[0mformats\u001b[0m\u001b[0;34m:\u001b[0m\u001b[0;34m\u001b[0m\u001b[0;34m\u001b[0m\u001b[0m\n\u001b[1;32m    243\u001b[0m         \u001b[0mpng_formatter\u001b[0m\u001b[0;34m.\u001b[0m\u001b[0mfor_type\u001b[0m\u001b[0;34m(\u001b[0m\u001b[0mFigure\u001b[0m\u001b[0;34m,\u001b[0m \u001b[0;32mlambda\u001b[0m \u001b[0mfig\u001b[0m\u001b[0;34m:\u001b[0m \u001b[0mretina_figure\u001b[0m\u001b[0;34m(\u001b[0m\u001b[0mfig\u001b[0m\u001b[0;34m,\u001b[0m \u001b[0;34m**\u001b[0m\u001b[0mkwargs\u001b[0m\u001b[0;34m)\u001b[0m\u001b[0;34m)\u001b[0m\u001b[0;34m\u001b[0m\u001b[0;34m\u001b[0m\u001b[0m\n",
            "\u001b[0;32m/usr/local/lib/python3.6/dist-packages/IPython/core/pylabtools.py\u001b[0m in \u001b[0;36mprint_figure\u001b[0;34m(fig, fmt, bbox_inches, **kwargs)\u001b[0m\n\u001b[1;32m    123\u001b[0m \u001b[0;34m\u001b[0m\u001b[0m\n\u001b[1;32m    124\u001b[0m     \u001b[0mbytes_io\u001b[0m \u001b[0;34m=\u001b[0m \u001b[0mBytesIO\u001b[0m\u001b[0;34m(\u001b[0m\u001b[0;34m)\u001b[0m\u001b[0;34m\u001b[0m\u001b[0;34m\u001b[0m\u001b[0m\n\u001b[0;32m--> 125\u001b[0;31m     \u001b[0mfig\u001b[0m\u001b[0;34m.\u001b[0m\u001b[0mcanvas\u001b[0m\u001b[0;34m.\u001b[0m\u001b[0mprint_figure\u001b[0m\u001b[0;34m(\u001b[0m\u001b[0mbytes_io\u001b[0m\u001b[0;34m,\u001b[0m \u001b[0;34m**\u001b[0m\u001b[0mkw\u001b[0m\u001b[0;34m)\u001b[0m\u001b[0;34m\u001b[0m\u001b[0;34m\u001b[0m\u001b[0m\n\u001b[0m\u001b[1;32m    126\u001b[0m     \u001b[0mdata\u001b[0m \u001b[0;34m=\u001b[0m \u001b[0mbytes_io\u001b[0m\u001b[0;34m.\u001b[0m\u001b[0mgetvalue\u001b[0m\u001b[0;34m(\u001b[0m\u001b[0;34m)\u001b[0m\u001b[0;34m\u001b[0m\u001b[0;34m\u001b[0m\u001b[0m\n\u001b[1;32m    127\u001b[0m     \u001b[0;32mif\u001b[0m \u001b[0mfmt\u001b[0m \u001b[0;34m==\u001b[0m \u001b[0;34m'svg'\u001b[0m\u001b[0;34m:\u001b[0m\u001b[0;34m\u001b[0m\u001b[0;34m\u001b[0m\u001b[0m\n",
            "\u001b[0;32m/usr/local/lib/python3.6/dist-packages/matplotlib/backend_bases.py\u001b[0m in \u001b[0;36mprint_figure\u001b[0;34m(self, filename, dpi, facecolor, edgecolor, orientation, format, bbox_inches, **kwargs)\u001b[0m\n\u001b[1;32m   2101\u001b[0m                     \u001b[0mbbox_artists\u001b[0m \u001b[0;34m=\u001b[0m \u001b[0mkwargs\u001b[0m\u001b[0;34m.\u001b[0m\u001b[0mpop\u001b[0m\u001b[0;34m(\u001b[0m\u001b[0;34m\"bbox_extra_artists\"\u001b[0m\u001b[0;34m,\u001b[0m \u001b[0;32mNone\u001b[0m\u001b[0;34m)\u001b[0m\u001b[0;34m\u001b[0m\u001b[0;34m\u001b[0m\u001b[0m\n\u001b[1;32m   2102\u001b[0m                     bbox_inches = self.figure.get_tightbbox(renderer,\n\u001b[0;32m-> 2103\u001b[0;31m                             bbox_extra_artists=bbox_artists)\n\u001b[0m\u001b[1;32m   2104\u001b[0m                     \u001b[0mpad\u001b[0m \u001b[0;34m=\u001b[0m \u001b[0mkwargs\u001b[0m\u001b[0;34m.\u001b[0m\u001b[0mpop\u001b[0m\u001b[0;34m(\u001b[0m\u001b[0;34m\"pad_inches\"\u001b[0m\u001b[0;34m,\u001b[0m \u001b[0;32mNone\u001b[0m\u001b[0;34m)\u001b[0m\u001b[0;34m\u001b[0m\u001b[0;34m\u001b[0m\u001b[0m\n\u001b[1;32m   2105\u001b[0m                     \u001b[0;32mif\u001b[0m \u001b[0mpad\u001b[0m \u001b[0;32mis\u001b[0m \u001b[0;32mNone\u001b[0m\u001b[0;34m:\u001b[0m\u001b[0;34m\u001b[0m\u001b[0;34m\u001b[0m\u001b[0m\n",
            "\u001b[0;32m/usr/local/lib/python3.6/dist-packages/matplotlib/figure.py\u001b[0m in \u001b[0;36mget_tightbbox\u001b[0;34m(self, renderer, bbox_extra_artists)\u001b[0m\n\u001b[1;32m   2383\u001b[0m \u001b[0;34m\u001b[0m\u001b[0m\n\u001b[1;32m   2384\u001b[0m         \u001b[0;32mfor\u001b[0m \u001b[0ma\u001b[0m \u001b[0;32min\u001b[0m \u001b[0martists\u001b[0m\u001b[0;34m:\u001b[0m\u001b[0;34m\u001b[0m\u001b[0;34m\u001b[0m\u001b[0m\n\u001b[0;32m-> 2385\u001b[0;31m             \u001b[0mbbox\u001b[0m \u001b[0;34m=\u001b[0m \u001b[0ma\u001b[0m\u001b[0;34m.\u001b[0m\u001b[0mget_tightbbox\u001b[0m\u001b[0;34m(\u001b[0m\u001b[0mrenderer\u001b[0m\u001b[0;34m)\u001b[0m\u001b[0;34m\u001b[0m\u001b[0;34m\u001b[0m\u001b[0m\n\u001b[0m\u001b[1;32m   2386\u001b[0m             \u001b[0;32mif\u001b[0m \u001b[0mbbox\u001b[0m \u001b[0;32mis\u001b[0m \u001b[0;32mnot\u001b[0m \u001b[0;32mNone\u001b[0m \u001b[0;32mand\u001b[0m \u001b[0;34m(\u001b[0m\u001b[0mbbox\u001b[0m\u001b[0;34m.\u001b[0m\u001b[0mwidth\u001b[0m \u001b[0;34m!=\u001b[0m \u001b[0;36m0\u001b[0m \u001b[0;32mor\u001b[0m \u001b[0mbbox\u001b[0m\u001b[0;34m.\u001b[0m\u001b[0mheight\u001b[0m \u001b[0;34m!=\u001b[0m \u001b[0;36m0\u001b[0m\u001b[0;34m)\u001b[0m\u001b[0;34m:\u001b[0m\u001b[0;34m\u001b[0m\u001b[0;34m\u001b[0m\u001b[0m\n\u001b[1;32m   2387\u001b[0m                 \u001b[0mbb\u001b[0m\u001b[0;34m.\u001b[0m\u001b[0mappend\u001b[0m\u001b[0;34m(\u001b[0m\u001b[0mbbox\u001b[0m\u001b[0;34m)\u001b[0m\u001b[0;34m\u001b[0m\u001b[0;34m\u001b[0m\u001b[0m\n",
            "\u001b[0;32m/usr/local/lib/python3.6/dist-packages/matplotlib/artist.py\u001b[0m in \u001b[0;36mget_tightbbox\u001b[0;34m(self, renderer)\u001b[0m\n\u001b[1;32m    284\u001b[0m             \u001b[0mclip_box\u001b[0m \u001b[0;34m=\u001b[0m \u001b[0mself\u001b[0m\u001b[0;34m.\u001b[0m\u001b[0mget_clip_box\u001b[0m\u001b[0;34m(\u001b[0m\u001b[0;34m)\u001b[0m\u001b[0;34m\u001b[0m\u001b[0;34m\u001b[0m\u001b[0m\n\u001b[1;32m    285\u001b[0m             \u001b[0;32mif\u001b[0m \u001b[0mclip_box\u001b[0m \u001b[0;32mis\u001b[0m \u001b[0;32mnot\u001b[0m \u001b[0;32mNone\u001b[0m\u001b[0;34m:\u001b[0m\u001b[0;34m\u001b[0m\u001b[0;34m\u001b[0m\u001b[0m\n\u001b[0;32m--> 286\u001b[0;31m                 \u001b[0mbbox\u001b[0m \u001b[0;34m=\u001b[0m \u001b[0mBbox\u001b[0m\u001b[0;34m.\u001b[0m\u001b[0mintersection\u001b[0m\u001b[0;34m(\u001b[0m\u001b[0mbbox\u001b[0m\u001b[0;34m,\u001b[0m \u001b[0mclip_box\u001b[0m\u001b[0;34m)\u001b[0m\u001b[0;34m\u001b[0m\u001b[0;34m\u001b[0m\u001b[0m\n\u001b[0m\u001b[1;32m    287\u001b[0m             \u001b[0mclip_path\u001b[0m \u001b[0;34m=\u001b[0m \u001b[0mself\u001b[0m\u001b[0;34m.\u001b[0m\u001b[0mget_clip_path\u001b[0m\u001b[0;34m(\u001b[0m\u001b[0;34m)\u001b[0m\u001b[0;34m\u001b[0m\u001b[0;34m\u001b[0m\u001b[0m\n\u001b[1;32m    288\u001b[0m             \u001b[0;32mif\u001b[0m \u001b[0mclip_path\u001b[0m \u001b[0;32mis\u001b[0m \u001b[0;32mnot\u001b[0m \u001b[0;32mNone\u001b[0m \u001b[0;32mand\u001b[0m \u001b[0mbbox\u001b[0m \u001b[0;32mis\u001b[0m \u001b[0;32mnot\u001b[0m \u001b[0;32mNone\u001b[0m\u001b[0;34m:\u001b[0m\u001b[0;34m\u001b[0m\u001b[0;34m\u001b[0m\u001b[0m\n",
            "\u001b[0;32m/usr/local/lib/python3.6/dist-packages/matplotlib/transforms.py\u001b[0m in \u001b[0;36mintersection\u001b[0;34m(bbox1, bbox2)\u001b[0m\n\u001b[1;32m    715\u001b[0m         \u001b[0mx0\u001b[0m \u001b[0;34m=\u001b[0m \u001b[0mnp\u001b[0m\u001b[0;34m.\u001b[0m\u001b[0mmaximum\u001b[0m\u001b[0;34m(\u001b[0m\u001b[0mbbox1\u001b[0m\u001b[0;34m.\u001b[0m\u001b[0mxmin\u001b[0m\u001b[0;34m,\u001b[0m \u001b[0mbbox2\u001b[0m\u001b[0;34m.\u001b[0m\u001b[0mxmin\u001b[0m\u001b[0;34m)\u001b[0m\u001b[0;34m\u001b[0m\u001b[0;34m\u001b[0m\u001b[0m\n\u001b[1;32m    716\u001b[0m         \u001b[0mx1\u001b[0m \u001b[0;34m=\u001b[0m \u001b[0mnp\u001b[0m\u001b[0;34m.\u001b[0m\u001b[0mminimum\u001b[0m\u001b[0;34m(\u001b[0m\u001b[0mbbox1\u001b[0m\u001b[0;34m.\u001b[0m\u001b[0mxmax\u001b[0m\u001b[0;34m,\u001b[0m \u001b[0mbbox2\u001b[0m\u001b[0;34m.\u001b[0m\u001b[0mxmax\u001b[0m\u001b[0;34m)\u001b[0m\u001b[0;34m\u001b[0m\u001b[0;34m\u001b[0m\u001b[0m\n\u001b[0;32m--> 717\u001b[0;31m         \u001b[0my0\u001b[0m \u001b[0;34m=\u001b[0m \u001b[0mnp\u001b[0m\u001b[0;34m.\u001b[0m\u001b[0mmaximum\u001b[0m\u001b[0;34m(\u001b[0m\u001b[0mbbox1\u001b[0m\u001b[0;34m.\u001b[0m\u001b[0mymin\u001b[0m\u001b[0;34m,\u001b[0m \u001b[0mbbox2\u001b[0m\u001b[0;34m.\u001b[0m\u001b[0mymin\u001b[0m\u001b[0;34m)\u001b[0m\u001b[0;34m\u001b[0m\u001b[0;34m\u001b[0m\u001b[0m\n\u001b[0m\u001b[1;32m    718\u001b[0m         \u001b[0my1\u001b[0m \u001b[0;34m=\u001b[0m \u001b[0mnp\u001b[0m\u001b[0;34m.\u001b[0m\u001b[0mminimum\u001b[0m\u001b[0;34m(\u001b[0m\u001b[0mbbox1\u001b[0m\u001b[0;34m.\u001b[0m\u001b[0mymax\u001b[0m\u001b[0;34m,\u001b[0m \u001b[0mbbox2\u001b[0m\u001b[0;34m.\u001b[0m\u001b[0mymax\u001b[0m\u001b[0;34m)\u001b[0m\u001b[0;34m\u001b[0m\u001b[0;34m\u001b[0m\u001b[0m\n\u001b[1;32m    719\u001b[0m         \u001b[0;32mreturn\u001b[0m \u001b[0mBbox\u001b[0m\u001b[0;34m(\u001b[0m\u001b[0;34m[\u001b[0m\u001b[0;34m[\u001b[0m\u001b[0mx0\u001b[0m\u001b[0;34m,\u001b[0m \u001b[0my0\u001b[0m\u001b[0;34m]\u001b[0m\u001b[0;34m,\u001b[0m \u001b[0;34m[\u001b[0m\u001b[0mx1\u001b[0m\u001b[0;34m,\u001b[0m \u001b[0my1\u001b[0m\u001b[0;34m]\u001b[0m\u001b[0;34m]\u001b[0m\u001b[0;34m)\u001b[0m \u001b[0;32mif\u001b[0m \u001b[0mx0\u001b[0m \u001b[0;34m<=\u001b[0m \u001b[0mx1\u001b[0m \u001b[0;32mand\u001b[0m \u001b[0my0\u001b[0m \u001b[0;34m<=\u001b[0m \u001b[0my1\u001b[0m \u001b[0;32melse\u001b[0m \u001b[0;32mNone\u001b[0m\u001b[0;34m\u001b[0m\u001b[0;34m\u001b[0m\u001b[0m\n",
            "\u001b[0;32m/usr/local/lib/python3.6/dist-packages/matplotlib/transforms.py\u001b[0m in \u001b[0;36mymin\u001b[0;34m(self)\u001b[0m\n\u001b[1;32m    352\u001b[0m     \u001b[0;32mdef\u001b[0m \u001b[0mymin\u001b[0m\u001b[0;34m(\u001b[0m\u001b[0mself\u001b[0m\u001b[0;34m)\u001b[0m\u001b[0;34m:\u001b[0m\u001b[0;34m\u001b[0m\u001b[0;34m\u001b[0m\u001b[0m\n\u001b[1;32m    353\u001b[0m         \u001b[0;34m\"\"\"The bottom edge of the bounding box.\"\"\"\u001b[0m\u001b[0;34m\u001b[0m\u001b[0;34m\u001b[0m\u001b[0m\n\u001b[0;32m--> 354\u001b[0;31m         \u001b[0;32mreturn\u001b[0m \u001b[0mnp\u001b[0m\u001b[0;34m.\u001b[0m\u001b[0mmin\u001b[0m\u001b[0;34m(\u001b[0m\u001b[0mself\u001b[0m\u001b[0;34m.\u001b[0m\u001b[0mget_points\u001b[0m\u001b[0;34m(\u001b[0m\u001b[0;34m)\u001b[0m\u001b[0;34m[\u001b[0m\u001b[0;34m:\u001b[0m\u001b[0;34m,\u001b[0m \u001b[0;36m1\u001b[0m\u001b[0;34m]\u001b[0m\u001b[0;34m)\u001b[0m\u001b[0;34m\u001b[0m\u001b[0;34m\u001b[0m\u001b[0m\n\u001b[0m\u001b[1;32m    355\u001b[0m \u001b[0;34m\u001b[0m\u001b[0m\n\u001b[1;32m    356\u001b[0m     \u001b[0;34m@\u001b[0m\u001b[0mproperty\u001b[0m\u001b[0;34m\u001b[0m\u001b[0;34m\u001b[0m\u001b[0m\n",
            "\u001b[0;32m<__array_function__ internals>\u001b[0m in \u001b[0;36mamin\u001b[0;34m(*args, **kwargs)\u001b[0m\n",
            "\u001b[0;32m/usr/local/lib/python3.6/dist-packages/numpy/core/fromnumeric.py\u001b[0m in \u001b[0;36mamin\u001b[0;34m(a, axis, out, keepdims, initial, where)\u001b[0m\n\u001b[1;32m   2791\u001b[0m     \"\"\"\n\u001b[1;32m   2792\u001b[0m     return _wrapreduction(a, np.minimum, 'min', axis, None, out,\n\u001b[0;32m-> 2793\u001b[0;31m                           keepdims=keepdims, initial=initial, where=where)\n\u001b[0m\u001b[1;32m   2794\u001b[0m \u001b[0;34m\u001b[0m\u001b[0m\n\u001b[1;32m   2795\u001b[0m \u001b[0;34m\u001b[0m\u001b[0m\n",
            "\u001b[0;32m/usr/local/lib/python3.6/dist-packages/numpy/core/fromnumeric.py\u001b[0m in \u001b[0;36m_wrapreduction\u001b[0;34m(obj, ufunc, method, axis, dtype, out, **kwargs)\u001b[0m\n\u001b[1;32m     88\u001b[0m                 \u001b[0;32mreturn\u001b[0m \u001b[0mreduction\u001b[0m\u001b[0;34m(\u001b[0m\u001b[0maxis\u001b[0m\u001b[0;34m=\u001b[0m\u001b[0maxis\u001b[0m\u001b[0;34m,\u001b[0m \u001b[0mout\u001b[0m\u001b[0;34m=\u001b[0m\u001b[0mout\u001b[0m\u001b[0;34m,\u001b[0m \u001b[0;34m**\u001b[0m\u001b[0mpasskwargs\u001b[0m\u001b[0;34m)\u001b[0m\u001b[0;34m\u001b[0m\u001b[0;34m\u001b[0m\u001b[0m\n\u001b[1;32m     89\u001b[0m \u001b[0;34m\u001b[0m\u001b[0m\n\u001b[0;32m---> 90\u001b[0;31m     \u001b[0;32mreturn\u001b[0m \u001b[0mufunc\u001b[0m\u001b[0;34m.\u001b[0m\u001b[0mreduce\u001b[0m\u001b[0;34m(\u001b[0m\u001b[0mobj\u001b[0m\u001b[0;34m,\u001b[0m \u001b[0maxis\u001b[0m\u001b[0;34m,\u001b[0m \u001b[0mdtype\u001b[0m\u001b[0;34m,\u001b[0m \u001b[0mout\u001b[0m\u001b[0;34m,\u001b[0m \u001b[0;34m**\u001b[0m\u001b[0mpasskwargs\u001b[0m\u001b[0;34m)\u001b[0m\u001b[0;34m\u001b[0m\u001b[0;34m\u001b[0m\u001b[0m\n\u001b[0m\u001b[1;32m     91\u001b[0m \u001b[0;34m\u001b[0m\u001b[0m\n\u001b[1;32m     92\u001b[0m \u001b[0;34m\u001b[0m\u001b[0m\n",
            "\u001b[0;31mKeyboardInterrupt\u001b[0m: "
          ]
        }
      ]
    },
    {
      "cell_type": "code",
      "metadata": {
        "id": "VSHXIhBfOsG0",
        "outputId": "186421ab-cfce-4951-f623-a36afe5ef4fa",
        "colab": {
          "base_uri": "https://localhost:8080/",
          "height": 118
        }
      },
      "source": [
        "preparats=df.BrandName_CLM.unique()\n",
        "preparats\n",
        "plt.bar(sample(list(w['q']),100),sample(list(w['time']),100))"
      ],
      "execution_count": null,
      "outputs": [
        {
          "output_type": "execute_result",
          "data": {
            "text/plain": [
              "array(['Фемибион 2', 'Аллервэй', 'Фемибион', 'Фемибион 1', 'Нормазе',\n",
              "       'Цетрин', 'Називин', 'Тексаред', 'Найзилат', 'Ибуклин', 'Экзифин',\n",
              "       'Ибуклин Юниор', nan, 'Декспан Плюс', 'РАЗО', 'Кеторол экспресс',\n",
              "       'Найз', 'Омез', 'Кеторол', 'Омез ДСР', 'Нейробион', 'Ципролет А',\n",
              "       'Ципролет', 'Леволет Р', 'Леволет', 'Найз гель',\n",
              "       'Декспан Плюс Бэби'], dtype=object)"
            ]
          },
          "metadata": {
            "tags": []
          },
          "execution_count": 67
        }
      ]
    },
    {
      "cell_type": "code",
      "metadata": {
        "id": "cq5Bel8YOsMK",
        "outputId": "48fefe05-161d-4869-bf2d-fedc5c8b0332",
        "colab": {
          "base_uri": "https://localhost:8080/",
          "height": 195
        }
      },
      "source": [
        "first=w.loc[w['BrandName_CLM'] == 'Фемибион 2']\n",
        "first.head()"
      ],
      "execution_count": null,
      "outputs": [
        {
          "output_type": "execute_result",
          "data": {
            "text/html": [
              "<div>\n",
              "<style scoped>\n",
              "    .dataframe tbody tr th:only-of-type {\n",
              "        vertical-align: middle;\n",
              "    }\n",
              "\n",
              "    .dataframe tbody tr th {\n",
              "        vertical-align: top;\n",
              "    }\n",
              "\n",
              "    .dataframe thead th {\n",
              "        text-align: right;\n",
              "    }\n",
              "</style>\n",
              "<table border=\"1\" class=\"dataframe\">\n",
              "  <thead>\n",
              "    <tr style=\"text-align: right;\">\n",
              "      <th></th>\n",
              "      <th>StartTime_CRM</th>\n",
              "      <th>BrandName_CLM</th>\n",
              "      <th>BrandResult_CRM</th>\n",
              "      <th>date</th>\n",
              "    </tr>\n",
              "  </thead>\n",
              "  <tbody>\n",
              "    <tr>\n",
              "      <th>0</th>\n",
              "      <td>2019-12-04 14:00:00</td>\n",
              "      <td>Фемибион 2</td>\n",
              "      <td>10.0</td>\n",
              "      <td>2019-12-04</td>\n",
              "    </tr>\n",
              "    <tr>\n",
              "      <th>37</th>\n",
              "      <td>2019-12-03 09:30:00</td>\n",
              "      <td>Фемибион 2</td>\n",
              "      <td>16.0</td>\n",
              "      <td>2019-12-03</td>\n",
              "    </tr>\n",
              "    <tr>\n",
              "      <th>51</th>\n",
              "      <td>2019-12-20 11:30:00</td>\n",
              "      <td>Фемибион 2</td>\n",
              "      <td>15.0</td>\n",
              "      <td>2019-12-20</td>\n",
              "    </tr>\n",
              "    <tr>\n",
              "      <th>99</th>\n",
              "      <td>2019-12-04 16:00:00</td>\n",
              "      <td>Фемибион 2</td>\n",
              "      <td>8.0</td>\n",
              "      <td>2019-12-04</td>\n",
              "    </tr>\n",
              "    <tr>\n",
              "      <th>113</th>\n",
              "      <td>2019-12-04 12:00:00</td>\n",
              "      <td>Фемибион 2</td>\n",
              "      <td>11.0</td>\n",
              "      <td>2019-12-04</td>\n",
              "    </tr>\n",
              "  </tbody>\n",
              "</table>\n",
              "</div>"
            ],
            "text/plain": [
              "          StartTime_CRM BrandName_CLM  BrandResult_CRM        date\n",
              "0   2019-12-04 14:00:00    Фемибион 2             10.0  2019-12-04\n",
              "37  2019-12-03 09:30:00    Фемибион 2             16.0  2019-12-03\n",
              "51  2019-12-20 11:30:00    Фемибион 2             15.0  2019-12-20\n",
              "99  2019-12-04 16:00:00    Фемибион 2              8.0  2019-12-04\n",
              "113 2019-12-04 12:00:00    Фемибион 2             11.0  2019-12-04"
            ]
          },
          "metadata": {
            "tags": []
          },
          "execution_count": 69
        }
      ]
    },
    {
      "cell_type": "code",
      "metadata": {
        "id": "BBpPpL70OsY3"
      },
      "source": [
        "\n",
        "x=w.iloc[:,3]\n",
        "y=w.iloc[:,2]"
      ],
      "execution_count": null,
      "outputs": []
    },
    {
      "cell_type": "code",
      "metadata": {
        "id": "bchooHHQOscW",
        "outputId": "b3989705-f34b-4cee-aa0e-69296f32fe8e",
        "colab": {
          "base_uri": "https://localhost:8080/",
          "height": 282
        }
      },
      "source": [
        ""
      ],
      "execution_count": null,
      "outputs": [
        {
          "output_type": "execute_result",
          "data": {
            "text/plain": [
              "<BarContainer object of 344805 artists>"
            ]
          },
          "metadata": {
            "tags": []
          },
          "execution_count": 75
        },
        {
          "output_type": "display_data",
          "data": {
            "image/png": "[encoded data removed]",
            "text/plain": [
              "<Figure size 432x288 with 1 Axes>"
            ]
          },
          "metadata": {
            "tags": [],
            "needs_background": "light"
          }
        }
      ]
    },
    {
      "cell_type": "code",
      "metadata": {
        "id": "nqQsQDe_OsSQ"
      },
      "source": [
        "def fuk(n):\n",
        "  q=[]\n",
        "  f=range(n+1)\n",
        "  for i in f:\n",
        "    \n",
        "    q.append(i*3**i)\n",
        "  return sum(q)"
      ],
      "execution_count": null,
      "outputs": []
    },
    {
      "cell_type": "code",
      "metadata": {
        "id": "pWpDdLmJOsQd",
        "outputId": "5088c656-97fe-40fd-d318-9334bd0ed7a9",
        "colab": {
          "base_uri": "https://localhost:8080/",
          "height": 296
        }
      },
      "source": [
        ""
      ],
      "execution_count": null,
      "outputs": [
        {
          "output_type": "error",
          "ename": "KeyboardInterrupt",
          "evalue": "ignored",
          "traceback": [
            "\u001b[0;31m---------------------------------------------------------------------------\u001b[0m",
            "\u001b[0;31mKeyboardInterrupt\u001b[0m                         Traceback (most recent call last)",
            "\u001b[0;32m<ipython-input-88-1fd7bf56818c>\u001b[0m in \u001b[0;36m<module>\u001b[0;34m()\u001b[0m\n\u001b[1;32m      1\u001b[0m \u001b[0mm\u001b[0m\u001b[0;34m=\u001b[0m\u001b[0;36m2000\u001b[0m\u001b[0;34m\u001b[0m\u001b[0;34m\u001b[0m\u001b[0m\n\u001b[1;32m      2\u001b[0m \u001b[0;32mwhile\u001b[0m \u001b[0mm\u001b[0m\u001b[0;34m<=\u001b[0m\u001b[0;36m3\u001b[0m\u001b[0;34m**\u001b[0m\u001b[0;36m2020\u001b[0m\u001b[0;34m:\u001b[0m\u001b[0;34m\u001b[0m\u001b[0;34m\u001b[0m\u001b[0m\n\u001b[0;32m----> 3\u001b[0;31m   \u001b[0mm\u001b[0m\u001b[0;34m=\u001b[0m\u001b[0mfuk\u001b[0m\u001b[0;34m(\u001b[0m\u001b[0mm\u001b[0m\u001b[0;34m)\u001b[0m\u001b[0;34m\u001b[0m\u001b[0;34m\u001b[0m\u001b[0m\n\u001b[0m",
            "\u001b[0;32m<ipython-input-84-05402d128a59>\u001b[0m in \u001b[0;36mfuk\u001b[0;34m(n)\u001b[0m\n\u001b[1;32m      4\u001b[0m   \u001b[0;32mfor\u001b[0m \u001b[0mi\u001b[0m \u001b[0;32min\u001b[0m \u001b[0mf\u001b[0m\u001b[0;34m:\u001b[0m\u001b[0;34m\u001b[0m\u001b[0;34m\u001b[0m\u001b[0m\n\u001b[1;32m      5\u001b[0m \u001b[0;34m\u001b[0m\u001b[0m\n\u001b[0;32m----> 6\u001b[0;31m     \u001b[0mq\u001b[0m\u001b[0;34m.\u001b[0m\u001b[0mappend\u001b[0m\u001b[0;34m(\u001b[0m\u001b[0mi\u001b[0m\u001b[0;34m*\u001b[0m\u001b[0;36m3\u001b[0m\u001b[0;34m**\u001b[0m\u001b[0mi\u001b[0m\u001b[0;34m)\u001b[0m\u001b[0;34m\u001b[0m\u001b[0;34m\u001b[0m\u001b[0m\n\u001b[0m\u001b[1;32m      7\u001b[0m   \u001b[0;32mreturn\u001b[0m \u001b[0msum\u001b[0m\u001b[0;34m(\u001b[0m\u001b[0mq\u001b[0m\u001b[0;34m)\u001b[0m\u001b[0;34m\u001b[0m\u001b[0;34m\u001b[0m\u001b[0m\n",
            "\u001b[0;31mKeyboardInterrupt\u001b[0m: "
          ]
        }
      ]
    },
    {
      "cell_type": "code",
      "metadata": {
        "id": "sMy4km0IOsK0",
        "outputId": "d7f6c981-051a-4d95-dbbf-45d5ed8dfa5e",
        "colab": {
          "base_uri": "https://localhost:8080/",
          "height": 162
        }
      },
      "source": [
        ""
      ],
      "execution_count": null,
      "outputs": [
        {
          "output_type": "error",
          "ename": "NameError",
          "evalue": "ignored",
          "traceback": [
            "\u001b[0;31m---------------------------------------------------------------------------\u001b[0m",
            "\u001b[0;31mNameError\u001b[0m                                 Traceback (most recent call last)",
            "\u001b[0;32m<ipython-input-78-e222fcdf3350>\u001b[0m in \u001b[0;36m<module>\u001b[0;34m()\u001b[0m\n\u001b[0;32m----> 1\u001b[0;31m \u001b[0mq\u001b[0m\u001b[0;34m\u001b[0m\u001b[0;34m\u001b[0m\u001b[0m\n\u001b[0m",
            "\u001b[0;31mNameError\u001b[0m: name 'q' is not defined"
          ]
        }
      ]
    },
    {
      "cell_type": "code",
      "metadata": {
        "id": "jgmi67bBOsFd"
      },
      "source": [
        ""
      ],
      "execution_count": null,
      "outputs": []
    },
    {
      "cell_type": "code",
      "metadata": {
        "id": "zWARfn8iOr_L"
      },
      "source": [
        ""
      ],
      "execution_count": null,
      "outputs": []
    },
    {
      "cell_type": "markdown",
      "metadata": {
        "id": "UoH0D26yUgJL"
      },
      "source": [
        "**первые строчки и анализ данных.Здесь мы видим основные моменты и паттерны датасета.** \n",
        "\n",
        "\n",
        "\n",
        "\n",
        "```\n",
        "# This is formatted as code\n",
        "```\n",
        "\n",
        "\n"
      ]
    },
    {
      "cell_type": "code",
      "metadata": {
        "id": "BGC1UJE3S_19",
        "outputId": "d5f46dea-ed48-420b-c5b9-dc42ea42f601",
        "colab": {
          "base_uri": "https://localhost:8080/",
          "height": 34
        }
      },
      "source": [
        "q\n",
        "type(q)\n"
      ],
      "execution_count": null,
      "outputs": [
        {
          "output_type": "execute_result",
          "data": {
            "text/plain": [
              "pandas.core.series.Series"
            ]
          },
          "metadata": {
            "tags": []
          },
          "execution_count": 29
        }
      ]
    },
    {
      "cell_type": "code",
      "metadata": {
        "id": "LrWA6f6xwRKZ",
        "outputId": "80ca6c6f-3486-4ce1-9a6d-f885f2d9b522",
        "colab": {
          "base_uri": "https://localhost:8080/",
          "height": 218
        }
      },
      "source": [
        "w=df[[]]\n",
        "w=w.dropna(axis=0) \n",
        "w# cleaned data from the na\n"
      ],
      "execution_count": null,
      "outputs": [
        {
          "output_type": "execute_result",
          "data": {
            "text/plain": [
              "0         10.0\n",
              "1          6.0\n",
              "3          8.0\n",
              "5          8.0\n",
              "7         16.0\n",
              "          ... \n",
              "525948    20.0\n",
              "525949     4.0\n",
              "525950    20.0\n",
              "525953     8.0\n",
              "525955     5.0\n",
              "Name: BrandResult_CRM, Length: 344805, dtype: float64"
            ]
          },
          "metadata": {
            "tags": []
          },
          "execution_count": 47
        }
      ]
    },
    {
      "cell_type": "code",
      "metadata": {
        "id": "ydfRjEZAHV5_",
        "outputId": "05316a3c-b280-4ae1-a667-8bce230e0305",
        "colab": {
          "base_uri": "https://localhost:8080/",
          "height": 786
        }
      },
      "source": [
        "plt.hist(w, bins=100,range=(0,200))"
      ],
      "execution_count": null,
      "outputs": [
        {
          "output_type": "execute_result",
          "data": {
            "text/plain": [
              "(array([5.3878e+04, 4.2872e+04, 4.7012e+04, 1.2977e+04, 2.0038e+04,\n",
              "        2.0206e+04, 1.2041e+04, 1.1027e+04, 6.7460e+03, 3.6550e+03,\n",
              "        2.7648e+04, 5.8370e+03, 8.0160e+03, 2.6790e+03, 2.4940e+03,\n",
              "        7.2890e+03, 2.6180e+03, 2.6500e+03, 1.2890e+03, 1.2230e+03,\n",
              "        1.3696e+04, 3.2010e+03, 3.2820e+03, 1.1550e+03, 1.0960e+03,\n",
              "        3.2460e+03, 7.6900e+02, 7.5900e+02, 5.1200e+02, 4.4700e+02,\n",
              "        6.9430e+03, 1.5830e+03, 1.1850e+03, 4.9700e+02, 4.3200e+02,\n",
              "        1.0820e+03, 3.6200e+02, 4.4900e+02, 1.4700e+02, 1.6100e+02,\n",
              "        3.0050e+03, 7.6500e+02, 5.2700e+02, 1.9900e+02, 1.4500e+02,\n",
              "        4.1700e+02, 1.1700e+02, 1.3500e+02, 7.8000e+01, 9.7000e+01,\n",
              "        1.9340e+03, 4.4000e+02, 3.2800e+02, 5.4000e+01, 3.6000e+01,\n",
              "        1.6900e+02, 3.2000e+01, 3.4000e+01, 1.8000e+01, 5.3000e+01,\n",
              "        7.1700e+02, 8.2000e+01, 5.7000e+01, 1.9000e+01, 1.6000e+01,\n",
              "        1.0400e+02, 1.9000e+01, 9.0000e+00, 7.0000e+00, 1.0000e+01,\n",
              "        2.4200e+02, 5.0000e+01, 2.0000e+01, 8.0000e+00, 1.3000e+01,\n",
              "        6.1000e+01, 1.2000e+01, 8.0000e+00, 2.0000e+00, 8.0000e+00,\n",
              "        1.8500e+02, 5.1000e+01, 1.9000e+01, 5.0000e+00, 8.0000e+00,\n",
              "        1.2000e+01, 3.0000e+00, 1.0000e+00, 1.0000e+00, 4.0000e+00,\n",
              "        4.8000e+01, 1.5000e+01, 7.0000e+00, 2.0000e+00, 1.0000e+00,\n",
              "        8.0000e+00, 3.0000e+00, 0.0000e+00, 0.0000e+00, 1.5900e+02]),\n",
              " array([  0.,   2.,   4.,   6.,   8.,  10.,  12.,  14.,  16.,  18.,  20.,\n",
              "         22.,  24.,  26.,  28.,  30.,  32.,  34.,  36.,  38.,  40.,  42.,\n",
              "         44.,  46.,  48.,  50.,  52.,  54.,  56.,  58.,  60.,  62.,  64.,\n",
              "         66.,  68.,  70.,  72.,  74.,  76.,  78.,  80.,  82.,  84.,  86.,\n",
              "         88.,  90.,  92.,  94.,  96.,  98., 100., 102., 104., 106., 108.,\n",
              "        110., 112., 114., 116., 118., 120., 122., 124., 126., 128., 130.,\n",
              "        132., 134., 136., 138., 140., 142., 144., 146., 148., 150., 152.,\n",
              "        154., 156., 158., 160., 162., 164., 166., 168., 170., 172., 174.,\n",
              "        176., 178., 180., 182., 184., 186., 188., 190., 192., 194., 196.,\n",
              "        198., 200.]),\n",
              " <a list of 100 Patch objects>)"
            ]
          },
          "metadata": {
            "tags": []
          },
          "execution_count": 57
        },
        {
          "output_type": "display_data",
          "data": {
            "image/png": "[encoded data removed]",
            "text/plain": [
              "<Figure size 432x288 with 1 Axes>"
            ]
          },
          "metadata": {
            "tags": [],
            "needs_background": "light"
          }
        }
      ]
    },
    {
      "cell_type": "code",
      "metadata": {
        "id": "xuKq1c0bG4Q1",
        "outputId": "2581f814-a677-4276-cace-db920917fe72",
        "colab": {
          "base_uri": "https://localhost:8080/",
          "height": 218
        }
      },
      "source": [
        "z=df.loc[:344804,'StartTime_CRM']\n",
        "z"
      ],
      "execution_count": null,
      "outputs": [
        {
          "output_type": "execute_result",
          "data": {
            "text/plain": [
              "0        2019-12-04 14:00:00\n",
              "1        2019-12-04 09:30:00\n",
              "2        2019-12-05 16:30:00\n",
              "3        2019-12-05 16:30:00\n",
              "4        2019-12-05 16:30:00\n",
              "                 ...        \n",
              "344800   2019-12-06 14:00:00\n",
              "344801   2019-12-06 14:00:00\n",
              "344802   2019-12-06 14:00:00\n",
              "344803   2019-12-06 15:00:00\n",
              "344804   2019-12-06 15:00:00\n",
              "Name: StartTime_CRM, Length: 344805, dtype: datetime64[ns]"
            ]
          },
          "metadata": {
            "tags": []
          },
          "execution_count": 65
        }
      ]
    },
    {
      "cell_type": "code",
      "metadata": {
        "id": "ZI0i_mTpP8lV"
      },
      "source": [
        "a=df.loc[:100,'StartTime_CRM']\n",
        "r=df.loc[:100,'StartTime_CRM']"
      ],
      "execution_count": null,
      "outputs": []
    },
    {
      "cell_type": "code",
      "metadata": {
        "id": "GYfyHd04OEyY",
        "outputId": "5402feae-a6b8-4b8b-d33f-72b64eed028e",
        "colab": {
          "base_uri": "https://localhost:8080/",
          "height": 500
        }
      },
      "source": [
        "plt.figure(figsize=(7,8))\n",
        "plt.plot(w,z)"
      ],
      "execution_count": null,
      "outputs": [
        {
          "output_type": "execute_result",
          "data": {
            "text/plain": [
              "[<matplotlib.lines.Line2D at 0x7f898b0a9d68>]"
            ]
          },
          "metadata": {
            "tags": []
          },
          "execution_count": 78
        },
        {
          "output_type": "display_data",
          "data": {
            "image/png": "[encoded data removed]",
            "text/plain": [
              "<Figure size 504x576 with 1 Axes>"
            ]
          },
          "metadata": {
            "tags": [],
            "needs_background": "light"
          }
        }
      ]
    },
    {
      "cell_type": "code",
      "metadata": {
        "id": "6cxz3hIsw64q",
        "outputId": "ba3d1726-6120-4328-8c83-d15ca3d16843",
        "colab": {
          "base_uri": "https://localhost:8080/",
          "height": 511
        }
      },
      "source": [
        "missingno.matrix(df, figsize = (30,10))"
      ],
      "execution_count": null,
      "outputs": [
        {
          "output_type": "execute_result",
          "data": {
            "text/plain": [
              "<matplotlib.axes._subplots.AxesSubplot at 0x7f54d06ca710>"
            ]
          },
          "metadata": {
            "tags": []
          },
          "execution_count": 27
        },
        {
          "output_type": "display_data",
          "data": {
            "image/png": "[encoded data removed]",
            "text/plain": [
              "<Figure size 2160x720 with 2 Axes>"
            ]
          },
          "metadata": {
            "tags": [],
            "needs_background": "light"
          }
        }
      ]
    },
    {
      "cell_type": "markdown",
      "metadata": {
        "id": "4cuDffTXxA9a"
      },
      "source": [
        "больше всего Nan  в колонках:VisitNumberClient_CRM ,TargetGroup_CRM ,TargetGroupAddon_CRM,Category_CRM ,BrandResult_CRM,Category_CRM.\n",
        "\n",
        "\n",
        "Исследуем брэнд нейм\n",
        "\n"
      ]
    },
    {
      "cell_type": "code",
      "metadata": {
        "id": "waZxTE7X2u-t",
        "outputId": "d7e8f762-5fa0-4afb-db84-66bbcb6aadcd",
        "colab": {
          "base_uri": "https://localhost:8080/",
          "height": 1000
        }
      },
      "source": [
        "fig = plt.figure(figsize=(20,20))\n",
        "sns.countplot(y='BrandName_CLM', data=df);\n",
        "print(df.BrandName_CLM.value_counts())"
      ],
      "execution_count": null,
      "outputs": [
        {
          "output_type": "stream",
          "text": [
            "Найз                 63875\n",
            "Омез                 51049\n",
            "Цетрин               34083\n",
            "Ибуклин              33493\n",
            "Називин              33279\n",
            "Нейробион            27379\n",
            "Кеторол экспресс     27261\n",
            "Кеторол              27250\n",
            "Омез ДСР             25773\n",
            "РАЗО                 20842\n",
            "Тексаред             20334\n",
            "Фемибион             19138\n",
            "Найз гель            18831\n",
            "Нормазе              15607\n",
            "Ибуклин Юниор        12671\n",
            "Леволет Р            11529\n",
            "Леволет              11527\n",
            "Фемибион 1            9962\n",
            "Фемибион 2            9176\n",
            "Ципролет              8698\n",
            "Найзилат              7949\n",
            "Аллервэй              6158\n",
            "Ципролет А            5433\n",
            "Декспан Плюс          3505\n",
            "Экзифин               2223\n",
            "Декспан Плюс Бэби      114\n",
            "Name: BrandName_CLM, dtype: int64\n"
          ],
          "name": "stdout"
        },
        {
          "output_type": "display_data",
          "data": {
            "image/png": "[encoded data removed]",
            "text/plain": [
              "<Figure size 1440x1440 with 1 Axes>"
            ]
          },
          "metadata": {
            "tags": [],
            "needs_background": "light"
          }
        }
      ]
    },
    {
      "cell_type": "markdown",
      "metadata": {
        "id": "aCselTNn2a5-"
      },
      "source": [
        ""
      ]
    },
    {
      "cell_type": "code",
      "metadata": {
        "id": "EGDYSLdsXrXJ",
        "outputId": "381a5698-15c2-49dd-8b0a-f1e54d913ecf",
        "colab": {
          "base_uri": "https://localhost:8080/",
          "height": 1000
        }
      },
      "source": [
        "fig = plt.figure(figsize=(20,20))\n",
        "\n",
        "q=pd.cut(df['BrandDuration_CLM'], bins=3)\n",
        "sns.countplot(y=q, data=df);\n",
        "print(df.BrandDuration_CLM.value_counts())"
      ],
      "execution_count": null,
      "outputs": [
        {
          "output_type": "stream",
          "text": [
            "2.0       39535\n",
            "1.0       39514\n",
            "3.0       26484\n",
            "4.0       16723\n",
            "5.0       12338\n",
            "          ...  \n",
            "1761.0        1\n",
            "1758.0        1\n",
            "1757.0        1\n",
            "6000.0        1\n",
            "3724.0        1\n",
            "Name: BrandDuration_CLM, Length: 2171, dtype: int64\n"
          ],
          "name": "stdout"
        },
        {
          "output_type": "display_data",
          "data": {
            "image/png": "[encoded data removed]",
            "text/plain": [
              "<Figure size 1440x1440 with 1 Axes>"
            ]
          },
          "metadata": {
            "tags": [],
            "needs_background": "light"
          }
        }
      ]
    },
    {
      "cell_type": "markdown",
      "metadata": {
        "id": "9m2nMukw5q3d"
      },
      "source": [
        ""
      ]
    },
    {
      "cell_type": "code",
      "metadata": {
        "id": "ajlNV4Li8E0L",
        "outputId": "9b102b27-c47a-41f5-b564-3718796fdc36",
        "colab": {
          "base_uri": "https://localhost:8080/",
          "height": 34
        }
      },
      "source": [
        "df.BrandName_CLM.isnull().sum()==df.BrandDuration_CLM.isnull().sum()"
      ],
      "execution_count": null,
      "outputs": [
        {
          "output_type": "execute_result",
          "data": {
            "text/plain": [
              "True"
            ]
          },
          "metadata": {
            "tags": []
          },
          "execution_count": 52
        }
      ]
    },
    {
      "cell_type": "code",
      "metadata": {
        "id": "ExpJQHb_-QTP",
        "outputId": "1007f1df-662d-4610-aa3d-958196d6b6e2",
        "colab": {
          "base_uri": "https://localhost:8080/",
          "height": 596
        }
      },
      "source": [
        "\n",
        "df.corr()"
      ],
      "execution_count": null,
      "outputs": [
        {
          "output_type": "execute_result",
          "data": {
            "text/html": [
              "<div>\n",
              "<style scoped>\n",
              "    .dataframe tbody tr th:only-of-type {\n",
              "        vertical-align: middle;\n",
              "    }\n",
              "\n",
              "    .dataframe tbody tr th {\n",
              "        vertical-align: top;\n",
              "    }\n",
              "\n",
              "    .dataframe thead th {\n",
              "        text-align: right;\n",
              "    }\n",
              "</style>\n",
              "<table border=\"1\" class=\"dataframe\">\n",
              "  <thead>\n",
              "    <tr style=\"text-align: right;\">\n",
              "      <th></th>\n",
              "      <th>ActivityID_CRM</th>\n",
              "      <th>VisitNumberClient_CRM</th>\n",
              "      <th>SLM_AgentId_CRM</th>\n",
              "      <th>FLM_AgentId_CRM</th>\n",
              "      <th>MR_AgentId_CRM</th>\n",
              "      <th>CompanyID_CRM</th>\n",
              "      <th>ClientID_CRM</th>\n",
              "      <th>PersonID_CRM</th>\n",
              "      <th>TargetGroupAddon_CRM</th>\n",
              "      <th>IsCompleted</th>\n",
              "      <th>IsDoubleCall</th>\n",
              "      <th>BrandId_CLM</th>\n",
              "      <th>BrandDuration_CLM</th>\n",
              "      <th>BrandResult_CRM</th>\n",
              "      <th>Latitude</th>\n",
              "      <th>Longitude</th>\n",
              "      <th>Accuracy</th>\n",
              "    </tr>\n",
              "  </thead>\n",
              "  <tbody>\n",
              "    <tr>\n",
              "      <th>ActivityID_CRM</th>\n",
              "      <td>1.000000</td>\n",
              "      <td>0.011808</td>\n",
              "      <td>-0.048559</td>\n",
              "      <td>-0.009219</td>\n",
              "      <td>0.028799</td>\n",
              "      <td>0.048259</td>\n",
              "      <td>0.048992</td>\n",
              "      <td>0.043113</td>\n",
              "      <td>NaN</td>\n",
              "      <td>-0.026587</td>\n",
              "      <td>-0.001930</td>\n",
              "      <td>-0.009539</td>\n",
              "      <td>0.027864</td>\n",
              "      <td>-0.091222</td>\n",
              "      <td>0.043347</td>\n",
              "      <td>-0.163696</td>\n",
              "      <td>0.000517</td>\n",
              "    </tr>\n",
              "    <tr>\n",
              "      <th>VisitNumberClient_CRM</th>\n",
              "      <td>0.011808</td>\n",
              "      <td>1.000000</td>\n",
              "      <td>-0.003819</td>\n",
              "      <td>-0.007981</td>\n",
              "      <td>0.007721</td>\n",
              "      <td>0.027034</td>\n",
              "      <td>-0.005684</td>\n",
              "      <td>-0.008698</td>\n",
              "      <td>NaN</td>\n",
              "      <td>-0.057687</td>\n",
              "      <td>0.000012</td>\n",
              "      <td>-0.001292</td>\n",
              "      <td>-0.003755</td>\n",
              "      <td>0.012505</td>\n",
              "      <td>-0.001177</td>\n",
              "      <td>-0.008387</td>\n",
              "      <td>0.000436</td>\n",
              "    </tr>\n",
              "    <tr>\n",
              "      <th>SLM_AgentId_CRM</th>\n",
              "      <td>-0.048559</td>\n",
              "      <td>-0.003819</td>\n",
              "      <td>1.000000</td>\n",
              "      <td>0.006820</td>\n",
              "      <td>-0.089747</td>\n",
              "      <td>0.024321</td>\n",
              "      <td>0.013020</td>\n",
              "      <td>0.023411</td>\n",
              "      <td>NaN</td>\n",
              "      <td>0.001238</td>\n",
              "      <td>-0.005179</td>\n",
              "      <td>-0.016439</td>\n",
              "      <td>0.013770</td>\n",
              "      <td>-0.005430</td>\n",
              "      <td>-0.235693</td>\n",
              "      <td>0.313097</td>\n",
              "      <td>-0.000268</td>\n",
              "    </tr>\n",
              "    <tr>\n",
              "      <th>FLM_AgentId_CRM</th>\n",
              "      <td>-0.009219</td>\n",
              "      <td>-0.007981</td>\n",
              "      <td>0.006820</td>\n",
              "      <td>1.000000</td>\n",
              "      <td>0.242224</td>\n",
              "      <td>-0.033825</td>\n",
              "      <td>-0.019309</td>\n",
              "      <td>-0.033276</td>\n",
              "      <td>NaN</td>\n",
              "      <td>-0.016100</td>\n",
              "      <td>-0.002740</td>\n",
              "      <td>0.025198</td>\n",
              "      <td>-0.014431</td>\n",
              "      <td>0.099348</td>\n",
              "      <td>0.151384</td>\n",
              "      <td>-0.046908</td>\n",
              "      <td>0.005984</td>\n",
              "    </tr>\n",
              "    <tr>\n",
              "      <th>MR_AgentId_CRM</th>\n",
              "      <td>0.028799</td>\n",
              "      <td>0.007721</td>\n",
              "      <td>-0.089747</td>\n",
              "      <td>0.242224</td>\n",
              "      <td>1.000000</td>\n",
              "      <td>0.011850</td>\n",
              "      <td>0.029681</td>\n",
              "      <td>0.027691</td>\n",
              "      <td>NaN</td>\n",
              "      <td>-0.014448</td>\n",
              "      <td>0.026674</td>\n",
              "      <td>0.016492</td>\n",
              "      <td>0.016610</td>\n",
              "      <td>0.027534</td>\n",
              "      <td>0.116479</td>\n",
              "      <td>0.058662</td>\n",
              "      <td>0.002215</td>\n",
              "    </tr>\n",
              "    <tr>\n",
              "      <th>CompanyID_CRM</th>\n",
              "      <td>0.048259</td>\n",
              "      <td>0.027034</td>\n",
              "      <td>0.024321</td>\n",
              "      <td>-0.033825</td>\n",
              "      <td>0.011850</td>\n",
              "      <td>1.000000</td>\n",
              "      <td>0.427453</td>\n",
              "      <td>0.399023</td>\n",
              "      <td>NaN</td>\n",
              "      <td>0.011633</td>\n",
              "      <td>-0.022393</td>\n",
              "      <td>-0.040531</td>\n",
              "      <td>-0.041076</td>\n",
              "      <td>-0.127506</td>\n",
              "      <td>-0.045336</td>\n",
              "      <td>-0.016530</td>\n",
              "      <td>-0.002935</td>\n",
              "    </tr>\n",
              "    <tr>\n",
              "      <th>ClientID_CRM</th>\n",
              "      <td>0.048992</td>\n",
              "      <td>-0.005684</td>\n",
              "      <td>0.013020</td>\n",
              "      <td>-0.019309</td>\n",
              "      <td>0.029681</td>\n",
              "      <td>0.427453</td>\n",
              "      <td>1.000000</td>\n",
              "      <td>0.887376</td>\n",
              "      <td>NaN</td>\n",
              "      <td>0.009930</td>\n",
              "      <td>-0.003772</td>\n",
              "      <td>-0.055666</td>\n",
              "      <td>-0.080821</td>\n",
              "      <td>-0.216407</td>\n",
              "      <td>0.002072</td>\n",
              "      <td>-0.017611</td>\n",
              "      <td>-0.007992</td>\n",
              "    </tr>\n",
              "    <tr>\n",
              "      <th>PersonID_CRM</th>\n",
              "      <td>0.043113</td>\n",
              "      <td>-0.008698</td>\n",
              "      <td>0.023411</td>\n",
              "      <td>-0.033276</td>\n",
              "      <td>0.027691</td>\n",
              "      <td>0.399023</td>\n",
              "      <td>0.887376</td>\n",
              "      <td>1.000000</td>\n",
              "      <td>NaN</td>\n",
              "      <td>0.014077</td>\n",
              "      <td>-0.005846</td>\n",
              "      <td>-0.060075</td>\n",
              "      <td>-0.086369</td>\n",
              "      <td>-0.225422</td>\n",
              "      <td>-0.009900</td>\n",
              "      <td>-0.012314</td>\n",
              "      <td>-0.007787</td>\n",
              "    </tr>\n",
              "    <tr>\n",
              "      <th>TargetGroupAddon_CRM</th>\n",
              "      <td>NaN</td>\n",
              "      <td>NaN</td>\n",
              "      <td>NaN</td>\n",
              "      <td>NaN</td>\n",
              "      <td>NaN</td>\n",
              "      <td>NaN</td>\n",
              "      <td>NaN</td>\n",
              "      <td>NaN</td>\n",
              "      <td>NaN</td>\n",
              "      <td>NaN</td>\n",
              "      <td>NaN</td>\n",
              "      <td>NaN</td>\n",
              "      <td>NaN</td>\n",
              "      <td>NaN</td>\n",
              "      <td>NaN</td>\n",
              "      <td>NaN</td>\n",
              "      <td>NaN</td>\n",
              "    </tr>\n",
              "    <tr>\n",
              "      <th>IsCompleted</th>\n",
              "      <td>-0.026587</td>\n",
              "      <td>-0.057687</td>\n",
              "      <td>0.001238</td>\n",
              "      <td>-0.016100</td>\n",
              "      <td>-0.014448</td>\n",
              "      <td>0.011633</td>\n",
              "      <td>0.009930</td>\n",
              "      <td>0.014077</td>\n",
              "      <td>NaN</td>\n",
              "      <td>1.000000</td>\n",
              "      <td>0.024307</td>\n",
              "      <td>-0.004950</td>\n",
              "      <td>0.004662</td>\n",
              "      <td>0.005413</td>\n",
              "      <td>0.185044</td>\n",
              "      <td>0.044082</td>\n",
              "      <td>0.000859</td>\n",
              "    </tr>\n",
              "    <tr>\n",
              "      <th>IsDoubleCall</th>\n",
              "      <td>-0.001930</td>\n",
              "      <td>0.000012</td>\n",
              "      <td>-0.005179</td>\n",
              "      <td>-0.002740</td>\n",
              "      <td>0.026674</td>\n",
              "      <td>-0.022393</td>\n",
              "      <td>-0.003772</td>\n",
              "      <td>-0.005846</td>\n",
              "      <td>NaN</td>\n",
              "      <td>0.024307</td>\n",
              "      <td>1.000000</td>\n",
              "      <td>0.003115</td>\n",
              "      <td>-0.007353</td>\n",
              "      <td>0.007007</td>\n",
              "      <td>0.002053</td>\n",
              "      <td>-0.013294</td>\n",
              "      <td>0.001214</td>\n",
              "    </tr>\n",
              "    <tr>\n",
              "      <th>BrandId_CLM</th>\n",
              "      <td>-0.009539</td>\n",
              "      <td>-0.001292</td>\n",
              "      <td>-0.016439</td>\n",
              "      <td>0.025198</td>\n",
              "      <td>0.016492</td>\n",
              "      <td>-0.040531</td>\n",
              "      <td>-0.055666</td>\n",
              "      <td>-0.060075</td>\n",
              "      <td>NaN</td>\n",
              "      <td>-0.004950</td>\n",
              "      <td>0.003115</td>\n",
              "      <td>1.000000</td>\n",
              "      <td>0.084142</td>\n",
              "      <td>-0.123412</td>\n",
              "      <td>0.008851</td>\n",
              "      <td>0.009058</td>\n",
              "      <td>0.000872</td>\n",
              "    </tr>\n",
              "    <tr>\n",
              "      <th>BrandDuration_CLM</th>\n",
              "      <td>0.027864</td>\n",
              "      <td>-0.003755</td>\n",
              "      <td>0.013770</td>\n",
              "      <td>-0.014431</td>\n",
              "      <td>0.016610</td>\n",
              "      <td>-0.041076</td>\n",
              "      <td>-0.080821</td>\n",
              "      <td>-0.086369</td>\n",
              "      <td>NaN</td>\n",
              "      <td>0.004662</td>\n",
              "      <td>-0.007353</td>\n",
              "      <td>0.084142</td>\n",
              "      <td>1.000000</td>\n",
              "      <td>0.060477</td>\n",
              "      <td>-0.007583</td>\n",
              "      <td>0.014434</td>\n",
              "      <td>0.000076</td>\n",
              "    </tr>\n",
              "    <tr>\n",
              "      <th>BrandResult_CRM</th>\n",
              "      <td>-0.091222</td>\n",
              "      <td>0.012505</td>\n",
              "      <td>-0.005430</td>\n",
              "      <td>0.099348</td>\n",
              "      <td>0.027534</td>\n",
              "      <td>-0.127506</td>\n",
              "      <td>-0.216407</td>\n",
              "      <td>-0.225422</td>\n",
              "      <td>NaN</td>\n",
              "      <td>0.005413</td>\n",
              "      <td>0.007007</td>\n",
              "      <td>-0.123412</td>\n",
              "      <td>0.060477</td>\n",
              "      <td>1.000000</td>\n",
              "      <td>-0.032770</td>\n",
              "      <td>0.036580</td>\n",
              "      <td>0.001643</td>\n",
              "    </tr>\n",
              "    <tr>\n",
              "      <th>Latitude</th>\n",
              "      <td>0.043347</td>\n",
              "      <td>-0.001177</td>\n",
              "      <td>-0.235693</td>\n",
              "      <td>0.151384</td>\n",
              "      <td>0.116479</td>\n",
              "      <td>-0.045336</td>\n",
              "      <td>0.002072</td>\n",
              "      <td>-0.009900</td>\n",
              "      <td>NaN</td>\n",
              "      <td>0.185044</td>\n",
              "      <td>0.002053</td>\n",
              "      <td>0.008851</td>\n",
              "      <td>-0.007583</td>\n",
              "      <td>-0.032770</td>\n",
              "      <td>1.000000</td>\n",
              "      <td>-0.112176</td>\n",
              "      <td>0.000089</td>\n",
              "    </tr>\n",
              "    <tr>\n",
              "      <th>Longitude</th>\n",
              "      <td>-0.163696</td>\n",
              "      <td>-0.008387</td>\n",
              "      <td>0.313097</td>\n",
              "      <td>-0.046908</td>\n",
              "      <td>0.058662</td>\n",
              "      <td>-0.016530</td>\n",
              "      <td>-0.017611</td>\n",
              "      <td>-0.012314</td>\n",
              "      <td>NaN</td>\n",
              "      <td>0.044082</td>\n",
              "      <td>-0.013294</td>\n",
              "      <td>0.009058</td>\n",
              "      <td>0.014434</td>\n",
              "      <td>0.036580</td>\n",
              "      <td>-0.112176</td>\n",
              "      <td>1.000000</td>\n",
              "      <td>0.007895</td>\n",
              "    </tr>\n",
              "    <tr>\n",
              "      <th>Accuracy</th>\n",
              "      <td>0.000517</td>\n",
              "      <td>0.000436</td>\n",
              "      <td>-0.000268</td>\n",
              "      <td>0.005984</td>\n",
              "      <td>0.002215</td>\n",
              "      <td>-0.002935</td>\n",
              "      <td>-0.007992</td>\n",
              "      <td>-0.007787</td>\n",
              "      <td>NaN</td>\n",
              "      <td>0.000859</td>\n",
              "      <td>0.001214</td>\n",
              "      <td>0.000872</td>\n",
              "      <td>0.000076</td>\n",
              "      <td>0.001643</td>\n",
              "      <td>0.000089</td>\n",
              "      <td>0.007895</td>\n",
              "      <td>1.000000</td>\n",
              "    </tr>\n",
              "  </tbody>\n",
              "</table>\n",
              "</div>"
            ],
            "text/plain": [
              "                       ActivityID_CRM  ...  Accuracy\n",
              "ActivityID_CRM               1.000000  ...  0.000517\n",
              "VisitNumberClient_CRM        0.011808  ...  0.000436\n",
              "SLM_AgentId_CRM             -0.048559  ... -0.000268\n",
              "FLM_AgentId_CRM             -0.009219  ...  0.005984\n",
              "MR_AgentId_CRM               0.028799  ...  0.002215\n",
              "CompanyID_CRM                0.048259  ... -0.002935\n",
              "ClientID_CRM                 0.048992  ... -0.007992\n",
              "PersonID_CRM                 0.043113  ... -0.007787\n",
              "TargetGroupAddon_CRM              NaN  ...       NaN\n",
              "IsCompleted                 -0.026587  ...  0.000859\n",
              "IsDoubleCall                -0.001930  ...  0.001214\n",
              "BrandId_CLM                 -0.009539  ...  0.000872\n",
              "BrandDuration_CLM            0.027864  ...  0.000076\n",
              "BrandResult_CRM             -0.091222  ...  0.001643\n",
              "Latitude                     0.043347  ...  0.000089\n",
              "Longitude                   -0.163696  ...  0.007895\n",
              "Accuracy                     0.000517  ...  1.000000\n",
              "\n",
              "[17 rows x 17 columns]"
            ]
          },
          "metadata": {
            "tags": []
          },
          "execution_count": 55
        }
      ]
    },
    {
      "cell_type": "code",
      "metadata": {
        "id": "VPVh_6O55rT0"
      },
      "source": [
        "sns.countplot(y=)"
      ],
      "execution_count": null,
      "outputs": []
    },
    {
      "cell_type": "code",
      "metadata": {
        "id": "LP8_eoMcYDJs",
        "outputId": "44da98aa-f067-49fe-f6a3-94c688a49568",
        "colab": {
          "base_uri": "https://localhost:8080/",
          "height": 374
        }
      },
      "source": [
        "pharma['VisitNumberClient_CRM'].value_counts()"
      ],
      "execution_count": null,
      "outputs": [
        {
          "output_type": "execute_result",
          "data": {
            "text/plain": [
              "1.0      464906\n",
              "2.0        4350\n",
              "3.0         331\n",
              "4.0         135\n",
              "5.0          23\n",
              "6.0           6\n",
              "11.0          6\n",
              "9.0           6\n",
              "7.0           5\n",
              "20.0          5\n",
              "100.0         1\n",
              "98.0          1\n",
              "22.0          1\n",
              "77.0          1\n",
              "106.0         1\n",
              "62.0          1\n",
              "14.0          1\n",
              "149.0         1\n",
              "132.0         1\n",
              "113.0         1\n",
              "Name: VisitNumberClient_CRM, dtype: int64"
            ]
          },
          "metadata": {
            "tags": []
          },
          "execution_count": 28
        }
      ]
    },
    {
      "cell_type": "markdown",
      "metadata": {
        "id": "PbcEbWsrKLoy"
      },
      "source": [
        "Сколько было визитов клиентам\n"
      ]
    },
    {
      "cell_type": "code",
      "metadata": {
        "id": "pbaNKxKpYNhq",
        "outputId": "ac36de65-65bf-4e84-990b-99446609f107",
        "colab": {
          "base_uri": "https://localhost:8080/",
          "height": 418
        }
      },
      "source": [
        "plt.hist(pharma['VisitNumberClient_CRM'])"
      ],
      "execution_count": null,
      "outputs": [
        {
          "output_type": "stream",
          "text": [
            "/usr/local/lib/python3.6/dist-packages/numpy/lib/histograms.py:839: RuntimeWarning: invalid value encountered in greater_equal\n",
            "  keep = (tmp_a >= first_edge)\n",
            "/usr/local/lib/python3.6/dist-packages/numpy/lib/histograms.py:840: RuntimeWarning: invalid value encountered in less_equal\n",
            "  keep &= (tmp_a <= last_edge)\n"
          ],
          "name": "stderr"
        },
        {
          "output_type": "execute_result",
          "data": {
            "text/plain": [
              "(array([4.69769e+05, 6.00000e+00, 0.00000e+00, 0.00000e+00, 1.00000e+00,\n",
              "        1.00000e+00, 2.00000e+00, 2.00000e+00, 1.00000e+00, 1.00000e+00]),\n",
              " array([  1. ,  15.8,  30.6,  45.4,  60.2,  75. ,  89.8, 104.6, 119.4,\n",
              "        134.2, 149. ]),\n",
              " <a list of 10 Patch objects>)"
            ]
          },
          "metadata": {
            "tags": []
          },
          "execution_count": 29
        },
        {
          "output_type": "display_data",
          "data": {
            "image/png": "[encoded data removed]",
            "text/plain": [
              "<Figure size 432x288 with 1 Axes>"
            ]
          },
          "metadata": {
            "tags": [],
            "needs_background": "light"
          }
        }
      ]
    },
    {
      "cell_type": "code",
      "metadata": {
        "id": "mfExUs2JYtHr",
        "outputId": "04694237-a1a1-4963-ffdd-7d06654dd683",
        "colab": {
          "base_uri": "https://localhost:8080/",
          "height": 476
        }
      },
      "source": [
        "pharma['SLM_AgentId_CRM'].value_counts()\n",
        "\n",
        "\n"
      ],
      "execution_count": null,
      "outputs": [
        {
          "output_type": "execute_result",
          "data": {
            "text/plain": [
              "Найз                 63875\n",
              "Омез                 51049\n",
              "Цетрин               34083\n",
              "Ибуклин              33493\n",
              "Називин              33279\n",
              "Нейробион            27379\n",
              "Кеторол экспресс     27261\n",
              "Кеторол              27250\n",
              "Омез ДСР             25773\n",
              "РАЗО                 20842\n",
              "Тексаред             20334\n",
              "Фемибион             19138\n",
              "Найз гель            18831\n",
              "Нормазе              15607\n",
              "Ибуклин Юниор        12671\n",
              "Леволет Р            11529\n",
              "Леволет              11527\n",
              "Фемибион 1            9962\n",
              "Фемибион 2            9176\n",
              "Ципролет              8698\n",
              "Найзилат              7949\n",
              "Аллервэй              6158\n",
              "Ципролет А            5433\n",
              "Декспан Плюс          3505\n",
              "Экзифин               2223\n",
              "Декспан Плюс Бэби      114\n",
              "Name: BrandName_CLM, dtype: int64"
            ]
          },
          "metadata": {
            "tags": []
          },
          "execution_count": 38
        }
      ]
    },
    {
      "cell_type": "code",
      "metadata": {
        "id": "6kolHDPR45UL"
      },
      "source": [
        ""
      ],
      "execution_count": null,
      "outputs": []
    },
    {
      "cell_type": "markdown",
      "metadata": {
        "id": "XmeMa6V9KT_S"
      },
      "source": [
        "Можно соотнести корреляцию данных по припарату исезонности.\n"
      ]
    },
    {
      "cell_type": "code",
      "metadata": {
        "id": "PZQ-jJeWZC46",
        "outputId": "f261ffcb-8632-42cc-e54e-fdf66fa204aa",
        "colab": {
          "base_uri": "https://localhost:8080/",
          "height": 510
        }
      },
      "source": [
        "pharma.columns.tolist()"
      ],
      "execution_count": null,
      "outputs": [
        {
          "output_type": "execute_result",
          "data": {
            "text/plain": [
              "['ActivityID_CRM',\n",
              " 'EventType_CRM',\n",
              " 'VisitNumberClient_CRM',\n",
              " 'StartTime_CRM',\n",
              " 'EndTime_CRM',\n",
              " 'UniqueId_CRM',\n",
              " 'BusinessUnit_CRM',\n",
              " 'Team_CRM',\n",
              " 'SLM_AgentId_CRM',\n",
              " 'FLM_AgentId_CRM',\n",
              " 'MR_AgentId_CRM',\n",
              " 'CompanyID_CRM',\n",
              " 'ClientID_CRM',\n",
              " 'PersonID_CRM',\n",
              " 'Speciality_CRM',\n",
              " 'TargetGroup_CRM',\n",
              " 'TargetGroupAddon_CRM',\n",
              " 'Category_CRM',\n",
              " 'CompanyType_CRM',\n",
              " 'IsCompleted',\n",
              " 'IsDoubleCall',\n",
              " 'BrandId_CLM',\n",
              " 'BrandName_CLM',\n",
              " 'BrandDuration_CLM',\n",
              " 'BrandResult_CRM',\n",
              " 'Latitude',\n",
              " 'Longitude',\n",
              " 'Accuracy',\n",
              " 'LocationTime']"
            ]
          },
          "metadata": {
            "tags": []
          },
          "execution_count": 32
        }
      ]
    },
    {
      "cell_type": "code",
      "metadata": {
        "id": "EkFfAL5WZzq8"
      },
      "source": [
        "f=[pharma['BrandName_CLM'].value_counts()]\n"
      ],
      "execution_count": null,
      "outputs": []
    }
  ]
}